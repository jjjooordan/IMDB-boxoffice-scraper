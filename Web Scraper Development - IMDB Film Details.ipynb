{
 "cells": [
  {
   "cell_type": "markdown",
   "metadata": {},
   "source": [
    "# Web Scraping Development\n",
    "## IMDB Film Details\n",
    "\n",
    "## Objectives\n",
    "* Explore how to scrape general film information, as well as budget and box office data from IMDB pages\n",
    "* Create a currency conversion function to parse and process scraped budget and box office data\n",
    "* Create a function to summarize IMDB film detail scraping\n"
   ]
  },
  {
   "cell_type": "code",
   "execution_count": 99,
   "metadata": {
    "scrolled": true
   },
   "outputs": [],
   "source": [
    "# Install packages, if necessary:\n",
    "# pip install requests\n",
    "# pip install beautifulsoup4"
   ]
  },
  {
   "cell_type": "markdown",
   "metadata": {},
   "source": [
    "## Exploring IMDB movie pages\n",
    "Before functions can be defined, we need to understand how IMDB web pages are organized.  HTML code will be parsed using BeautifulSoup to extract the information we are looking for as strings.  Strings will then be processed into floats or integers as necessary, and normalized to USD for comparison."
   ]
  },
  {
   "cell_type": "code",
   "execution_count": 11,
   "metadata": {
    "scrolled": true
   },
   "outputs": [
    {
     "name": "stdout",
     "output_type": "stream",
     "text": [
      "b'\\n\\n\\n\\n\\n\\n\\n<!DOCTYPE html>\\n<html\\n    xmlns:og=\"http://ogp.me/ns#\"\\n    xmlns:fb=\"http://www.facebook.com/'\n"
     ]
    }
   ],
   "source": [
    "# Load libraries and URL:\n",
    "import requests\n",
    "import re\n",
    "from bs4 import BeautifulSoup\n",
    "import pandas as pd\n",
    "# import numpy as np\n",
    "# import seaborn as sns\n",
    "\n",
    "# Example URL is for Top Gun:\n",
    "# Separate href from full URL for integration with filmography scraper:\n",
    "href = '/title/tt0092099/'\n",
    "url = 'https://www.imdb.com' + href\n",
    "\n",
    "# Load URL and confirm success by printing first 100 characters:\n",
    "r = requests.get(url)\n",
    "print(r.content[:100])\n",
    "\n",
    "# Parse HTML with BeautifulSoup:\n",
    "soup = BeautifulSoup(r.content, 'html.parser')"
   ]
  },
  {
   "cell_type": "code",
   "execution_count": 63,
   "metadata": {
    "scrolled": true
   },
   "outputs": [],
   "source": [
    "# Prettify HTML for manual review, if necessary\n",
    "# print(soup.prettify())"
   ]
  },
  {
   "cell_type": "code",
   "execution_count": 70,
   "metadata": {
    "scrolled": false
   },
   "outputs": [
    {
     "name": "stdout",
     "output_type": "stream",
     "text": [
      "Title (Year): Top Gun (1986) \n",
      "Title: Top Gun\n",
      "Year: 1986\n",
      "IMDB Rating: 6.9\n",
      "From 284517 ratings\n"
     ]
    }
   ],
   "source": [
    "# Within 'soup', find movie title data including title and year:\n",
    "imdbFilmdata = soup.find('div', class_ = 'title_wrapper')\n",
    "title_year = imdbFilmdata.h1.text\n",
    "yearbrackets = imdbFilmdata.h1.span.text\n",
    "\n",
    "# Perform string operation for title:\n",
    "title = title_year[:-len(yearbrackets)-2]\n",
    "\n",
    "# Perform string operation and convert to integer for year:\n",
    "yearstr = yearbrackets[1:len(yearbrackets)-1]\n",
    "year = int(yearstr)\n",
    "\n",
    "# Verify parsing:\n",
    "print(\"Title (Year):\", title_year)\n",
    "print(\"Title:\", title)\n",
    "print(\"Year:\", year)\n",
    "\n",
    "# Within 'soup', find all <div> tag with 'class' attribute \"imdbRating\":\n",
    "imdbRatingdata = soup.find('div', class_ = 'imdbRating')\n",
    "str_imdbRating = imdbRatingdata.strong.text\n",
    "str_imdbRatingQty = imdbRatingdata.a.text\n",
    "\n",
    "# Convert strings to float and int:\n",
    "imdbRating = float(str_imdbRating)\n",
    "str_imdbRatingQty = str_imdbRatingQty.replace(',','')\n",
    "imdbRatingQty = int(str_imdbRatingQty)\n",
    "\n",
    "# Verify variable types:\n",
    "# print(\"Year:\", type(year))\n",
    "# print(\"IMDB Rating:\", type(imdbRating))\n",
    "# print(\"IMDB Rating Quantity:\", type(imdbRatingQty))\n",
    "\n",
    "# Verify values:\n",
    "print(\"IMDB Rating:\", imdbRating)\n",
    "print(\"From\", imdbRatingQty, \"ratings\")"
   ]
  },
  {
   "cell_type": "markdown",
   "metadata": {},
   "source": [
    "## Parsing titleDetails\n",
    "Only take the necessary data.  In this case, focus is on:\n",
    "- Budget\n",
    "- Opening weekend\n",
    "- Gross USA\n",
    "- Cumulative worldwide gross\n",
    "\n",
    "Note: Returned values are strings and need to be formatted before calculations.  This example also assumes USD values."
   ]
  },
  {
   "cell_type": "code",
   "execution_count": 90,
   "metadata": {
    "scrolled": true
   },
   "outputs": [
    {
     "name": "stdout",
     "output_type": "stream",
     "text": [
      "Budget: 15000000\n",
      "Opening Weekend USA: 8193052\n",
      "Gross USA: 179800601\n",
      "Cumulative Worldwide Gross: 356830601\n"
     ]
    }
   ],
   "source": [
    "# budgetTag = soup.find('h4', text = 'Budget:')\n",
    "budgetTag = soup.find('h4', text = re.compile('^Budg'))\n",
    "str_budgetVal = budgetTag.next_sibling\n",
    "budgetVal = budget_test.replace('$','')\n",
    "budgetVal = int(budgetVal)\n",
    "print(budgetTag.text, budgetVal)\n",
    "\n",
    "openingTag = soup.find('h4', text = re.compile('^Opening Weekend'))\n",
    "str_openingVal = openingTag.next_sibling\n",
    "openingVal = str_openingVal.replace('$','')\n",
    "openingVal = openingVal.replace(',','')\n",
    "openingVal = int(openingVal)\n",
    "print(openingTag.text, openingVal)\n",
    "\n",
    "domesticTag = soup.find('h4', text = re.compile('^Gross '))\n",
    "str_domesticVal = domesticTag.next_sibling\n",
    "domesticVal = str_domesticVal.replace('$','')\n",
    "domesticVal = domesticVal.replace(',','')\n",
    "domesticVal = int(domesticVal)\n",
    "print(domesticTag.text, domesticVal)\n",
    "\n",
    "worldwideTag = soup.find('h4', text = re.compile('^Cumulative Worldwide Gross'))\n",
    "str_worldwideVal = worldwideTag.next_sibling\n",
    "worldwideVal = str_worldwideVal.replace('$','')\n",
    "worldwideVal = worldwideVal.replace(',','')\n",
    "worldwideVal = int(worldwideVal)\n",
    "print(worldwideTag.text, worldwideVal)"
   ]
  },
  {
   "cell_type": "code",
   "execution_count": 94,
   "metadata": {},
   "outputs": [
    {
     "data": {
      "text/html": [
       "<div>\n",
       "<style scoped>\n",
       "    .dataframe tbody tr th:only-of-type {\n",
       "        vertical-align: middle;\n",
       "    }\n",
       "\n",
       "    .dataframe tbody tr th {\n",
       "        vertical-align: top;\n",
       "    }\n",
       "\n",
       "    .dataframe thead th {\n",
       "        text-align: right;\n",
       "    }\n",
       "</style>\n",
       "<table border=\"1\" class=\"dataframe\">\n",
       "  <thead>\n",
       "    <tr style=\"text-align: right;\">\n",
       "      <th></th>\n",
       "      <th>Title</th>\n",
       "      <th>Year</th>\n",
       "      <th>IMDB_Rating</th>\n",
       "      <th>IMDB_Ratings</th>\n",
       "      <th>Budget</th>\n",
       "      <th>Opening_Weekend</th>\n",
       "      <th>Domestic_Gross</th>\n",
       "      <th>Worldwide_Gross</th>\n",
       "    </tr>\n",
       "  </thead>\n",
       "  <tbody>\n",
       "    <tr>\n",
       "      <th>0</th>\n",
       "      <td>Top Gun</td>\n",
       "      <td>1986</td>\n",
       "      <td>6.9</td>\n",
       "      <td>284517</td>\n",
       "      <td>15000000</td>\n",
       "      <td>8193052</td>\n",
       "      <td>179800601</td>\n",
       "      <td>356830601</td>\n",
       "    </tr>\n",
       "  </tbody>\n",
       "</table>\n",
       "</div>"
      ],
      "text/plain": [
       "     Title  Year  IMDB_Rating  IMDB_Ratings    Budget  Opening_Weekend  \\\n",
       "0  Top Gun  1986          6.9        284517  15000000          8193052   \n",
       "\n",
       "   Domestic_Gross  Worldwide_Gross  \n",
       "0       179800601        356830601  "
      ]
     },
     "execution_count": 94,
     "metadata": {},
     "output_type": "execute_result"
    }
   ],
   "source": [
    "# Putting it together into a sample DataFrame:\n",
    "# Assemble all key values into an array:\n",
    "# Title, Year, IMDB Rating, # of Ratings, Budget, Opening Weekend, Gross Domestic, Cumulative Gross\n",
    "# title, year, imdbRating, imdbRatingQty, budgetVal, openingVal, domesticVal, worldwideVal\n",
    "\n",
    "filmdata = []\n",
    "filmdata.append([title, year, imdbRating, imdbRatingQty, budgetVal, openingVal, domesticVal, worldwideVal])\n",
    "\n",
    "# Convert to DataFrame:\n",
    "pdfilmdata = pd.DataFrame(filmdata, columns = ['Title',\n",
    "                                               'Year',\n",
    "                                               'IMDB_Rating',\n",
    "                                               'IMDB_Ratings',\n",
    "                                               'Budget',\n",
    "                                               'Opening_Weekend',\n",
    "                                               'Domestic_Gross',\n",
    "                                               'Worldwide_Gross'\n",
    "                                              ])\n",
    "pdfilmdata"
   ]
  },
  {
   "cell_type": "markdown",
   "metadata": {},
   "source": [
    "## Currency Conversion Feature\n",
    "Film production is global and USD is not the only currency used in IMDB.  Since data can be reported in different currencies, additional code must be able to determine what currency is being reported, and to apply the correct exchange rate to convert all values to USD.\n",
    "\n",
    "Before proceeding, a currency conversion function must be defined to support data parsing and processing.\n",
    "\n",
    "### Exchange Rate API\n",
    "Credit: https://exchangeratesapi.io/\n",
    "Exchange rates API is an open source service for current and historical foreign exchange rates.  Basic USD exchange rate call will be used to populate an exchange rate table at the start of the program.\n",
    "\n",
    "USD: https://api.exchangeratesapi.io/latest?base=USD"
   ]
  },
  {
   "cell_type": "code",
   "execution_count": 25,
   "metadata": {
    "scrolled": true
   },
   "outputs": [
    {
     "name": "stdout",
     "output_type": "stream",
     "text": [
      "{'rates': {'CAD': 1.3420055134, 'HKD': 7.7513783598, 'ISK': 135.9407305307, 'PHP': 49.3762922123, 'DKK': 6.4126464507, 'HUF': 298.9145416954, 'CZK': 22.6292212267, 'GBP': 0.7838128877, 'RON': 4.1630771881, 'SEK': 8.8464851826, 'IDR': 14629.5658166782, 'INR': 74.8328738801, 'BRL': 5.2357856651, 'RUB': 71.8416609235, 'HRK': 6.4757064094, 'JPY': 106.2715368711, 'THB': 31.7203652653, 'CHF': 0.9243625086, 'EUR': 0.8614748449, 'MYR': 4.2644727774, 'BGN': 1.6848725017, 'TRY': 6.8483804273, 'CNY': 7.0169710544, 'NOK': 9.213731909, 'NZD': 1.5080978635, 'ZAR': 16.7427636113, 'USD': 1.0, 'MXN': 22.4676085458, 'SGD': 1.3855099931, 'AUD': 1.4107512061, 'ILS': 3.4150585803, 'KRW': 1203.3339076499, 'PLN': 3.794452102}, 'base': 'USD', 'date': '2020-07-24'}\n"
     ]
    },
    {
     "data": {
      "text/plain": [
       "0.8614748449"
      ]
     },
     "execution_count": 25,
     "metadata": {},
     "output_type": "execute_result"
    }
   ],
   "source": [
    "# Use urllib and json to call API and process response\n",
    "r_usd = 'https://api.exchangeratesapi.io/latest?base=USD'\n",
    "usd_response = requests.get(r_usd)\n",
    "rates = usd_response.json()\n",
    "print(rates)\n",
    "currency = 'EUR'\n",
    "rates['rates'][currency]"
   ]
  },
  {
   "cell_type": "code",
   "execution_count": 60,
   "metadata": {},
   "outputs": [],
   "source": [
    "# Create exchange rate function to determine currency, look up exchange rate, and perform conversion to USD\n",
    "def perf_usd_conversion(native_value):\n",
    "    # Call Exchange Rates API to look up latest USD exchange rates\n",
    "    r_usd = 'https://api.exchangeratesapi.io/latest?base=USD'\n",
    "    usd_response = requests.get(r_usd)\n",
    "    rates = usd_response.json()\n",
    "    \n",
    "    # Parse reported value to determine currency used and remove currency code from string\n",
    "    native_value = native_value.strip()\n",
    "    if native_value[0] == '$':\n",
    "        num_value = native_value.replace('$','')\n",
    "        exchange_rate = 1\n",
    "    else:\n",
    "        currency = native_value[:3]\n",
    "        exchange_rate = rates['rates'][currency]\n",
    "        num_value = native_value[3:]\n",
    "    num_value = num_value.replace(',','')\n",
    "    if num_value.isnumeric() is True:\n",
    "        usd_value = float(num_value) / exchange_rate\n",
    "    else:\n",
    "        usd_value = None\n",
    "    return usd_value"
   ]
  },
  {
   "cell_type": "markdown",
   "metadata": {},
   "source": [
    "## Example: Convert a given value to test ability to detect currency\n",
    "We can input a specific currency value to test whether the currency exchange function can correctly interpret which exchange rate to apply.  We can also test the strip() and replace functions for processing a given string."
   ]
  },
  {
   "cell_type": "code",
   "execution_count": 67,
   "metadata": {},
   "outputs": [
    {
     "data": {
      "text/plain": [
       "7654888.168024696"
      ]
     },
     "execution_count": 67,
     "metadata": {},
     "output_type": "execute_result"
    }
   ],
   "source": [
    "perf_usd_conversion(' GBP6,0,0,0,0,0,0     ')"
   ]
  },
  {
   "cell_type": "markdown",
   "metadata": {},
   "source": [
    "## Example: Processing budget and box office data for Snatch (2000)\n",
    "Snatch reported its budget in GBP but its box office numbers in USD.  We use this movie to test the currency exchange function.\n"
   ]
  },
  {
   "cell_type": "code",
   "execution_count": 44,
   "metadata": {},
   "outputs": [],
   "source": [
    "def imdb_film_data_test(href):\n",
    "    # Append href input to full IMDB URL\n",
    "    url = 'https://www.imdb.com' + href\n",
    "    \n",
    "    # Parse URL with BeautifulSoup\n",
    "    r = requests.get(url)\n",
    "    soup = BeautifulSoup(r.content, 'html.parser')\n",
    "    \n",
    "    # Retrieve budget data\n",
    "    budgetTag = soup.find('h4', text = re.compile('^Budg'))\n",
    "    if budgetTag is None:\n",
    "        budgetVal = None\n",
    "        pass\n",
    "    else:\n",
    "        str_budgetVal = budgetTag.next_sibling\n",
    "        budgetVal = perf_usd_conversion(str_budgetVal)\n",
    "\n",
    "    # Retrieve box office data\n",
    "    openingTag = soup.find('h4', text = re.compile('^Opening Weekend'))\n",
    "    if openingTag is None:\n",
    "        openingVal = None\n",
    "        pass\n",
    "    else:\n",
    "        str_openingVal = openingTag.next_sibling\n",
    "        openingVal = perf_usd_conversion(str_openingVal)\n",
    "    \n",
    "    domesticTag = soup.find('h4', text = re.compile('^Gross '))\n",
    "    if domesticTag is None:\n",
    "        domesticVal = None\n",
    "        pass\n",
    "    else:\n",
    "        str_domesticVal = domesticTag.next_sibling\n",
    "        domesticVal = perf_usd_conversion(str_domesticVal)\n",
    "    \n",
    "    worldwideTag = soup.find('h4', text = re.compile('^Cumulative Worldwide Gross'))\n",
    "    if worldwideTag is None:\n",
    "        worldwideVal = None\n",
    "        pass\n",
    "    else:\n",
    "        str_worldwideVal = worldwideTag.next_sibling\n",
    "        worldwideVal = perf_usd_conversion(str_worldwideVal)\n",
    "\n",
    "    # Return list of film data in prescribed order\n",
    "    filmdata = [budgetVal, openingVal, domesticVal, worldwideVal]\n",
    "    return filmdata"
   ]
  },
  {
   "cell_type": "code",
   "execution_count": 69,
   "metadata": {},
   "outputs": [
    {
     "data": {
      "text/plain": [
       "[7654888.168024696, 27932.0, 30328156.0, 83557872.0]"
      ]
     },
     "execution_count": 69,
     "metadata": {},
     "output_type": "execute_result"
    }
   ],
   "source": [
    "# Example: Snatch\n",
    "# Budget reported in GBP, opening weekend has extra characters that could break the function\n",
    "imdb_film_data_test('/title/tt0208092/')"
   ]
  },
  {
   "cell_type": "markdown",
   "metadata": {},
   "source": [
    "## Convert to Function\n",
    "Convert to function.  If statements added to manage missing fields."
   ]
  },
  {
   "cell_type": "code",
   "execution_count": 46,
   "metadata": {},
   "outputs": [],
   "source": [
    "def imdb_film_data(href):\n",
    "    # Append href input to full IMDB URL\n",
    "    url = 'https://www.imdb.com' + href\n",
    "    \n",
    "    # Parse URL with BeautifulSoup\n",
    "    r = requests.get(url)\n",
    "    soup = BeautifulSoup(r.content, 'html.parser')\n",
    "    \n",
    "    # Retrieve film data\n",
    "    imdbFilmdata = soup.find('div', class_ = 'title_wrapper')\n",
    "    title_year = imdbFilmdata.h1.text\n",
    "    if imdbFilmdata.h1.span is None:\n",
    "        title_year = title_year.replace(u'\\xa0',u' ')\n",
    "        title = title_year.strip()\n",
    "        year = None\n",
    "        pass\n",
    "    else:\n",
    "        yearbrackets = imdbFilmdata.h1.span.text\n",
    "        title = title_year[:-len(yearbrackets)-2]\n",
    "        yearstr = yearbrackets[1:len(yearbrackets)-1]\n",
    "        year = int(yearstr)\n",
    "    \n",
    "    # Retrieve IMDB Rating data\n",
    "    imdbRatingdata = soup.find('div', class_ = 'imdbRating')\n",
    "    if imdbRatingdata is None:\n",
    "        imdbRating = None\n",
    "        imdbRatingQty = None\n",
    "        pass\n",
    "    else:\n",
    "        str_imdbRating = imdbRatingdata.strong.text\n",
    "        str_imdbRatingQty = imdbRatingdata.a.text\n",
    "        imdbRating = float(str_imdbRating)\n",
    "        str_imdbRatingQty = str_imdbRatingQty.replace(',','')\n",
    "        imdbRatingQty = int(str_imdbRatingQty)\n",
    "\n",
    "    # Retrieve budget data\n",
    "    budgetTag = soup.find('h4', text = re.compile('^Budg'))\n",
    "    if budgetTag is None:\n",
    "        budgetVal = None\n",
    "        pass\n",
    "    else:\n",
    "        str_budgetVal = budgetTag.next_sibling\n",
    "        budgetVal = perf_usd_conversion(str_budgetVal)\n",
    "\n",
    "    # Retrieve box office data\n",
    "    openingTag = soup.find('h4', text = re.compile('^Opening Weekend'))\n",
    "    if openingTag is None:\n",
    "        openingVal = None\n",
    "        pass\n",
    "    else:\n",
    "        str_openingVal = openingTag.next_sibling\n",
    "        openingVal = perf_usd_conversion(str_openingVal)\n",
    "    \n",
    "    domesticTag = soup.find('h4', text = re.compile('^Gross '))\n",
    "    if domesticTag is None:\n",
    "        domesticVal = None\n",
    "        pass\n",
    "    else:\n",
    "        str_domesticVal = domesticTag.next_sibling\n",
    "        domesticVal = perf_usd_conversion(str_domesticVal)\n",
    "    \n",
    "    worldwideTag = soup.find('h4', text = re.compile('^Cumulative Worldwide Gross'))\n",
    "    if worldwideTag is None:\n",
    "        worldwideVal = None\n",
    "        pass\n",
    "    else:\n",
    "        str_worldwideVal = worldwideTag.next_sibling\n",
    "        worldwideVal = perf_usd_conversion(str_worldwideVal)\n",
    "\n",
    "#     # Retrieve budget data\n",
    "#     budgetTag = soup.find('h4', text = re.compile('^Budg'))\n",
    "#     if budgetTag is None:\n",
    "#         budgetVal = None\n",
    "#         pass\n",
    "#     else:\n",
    "#         str_budgetVal = budgetTag.next_sibling\n",
    "#         budgetVal = str_budgetVal.replace('$','')\n",
    "#         budgetVal = budgetVal.replace(',','')\n",
    "#         budgetVal = int(budgetVal)\n",
    "\n",
    "#     # Retrieve box office data\n",
    "#     openingTag = soup.find('h4', text = re.compile('^Opening Weekend'))\n",
    "#     if openingTag is None:\n",
    "#         openingVal = None\n",
    "#         pass\n",
    "#     else:\n",
    "#         str_openingVal = openingTag.next_sibling\n",
    "#         openingVal = str_openingVal.replace('$','')\n",
    "#         openingVal = openingVal.replace(',','')\n",
    "#         openingVal = int(openingVal)\n",
    "    \n",
    "#     domesticTag = soup.find('h4', text = re.compile('^Gross '))\n",
    "#     if domesticTag is None:\n",
    "#         domesticVal = None\n",
    "#         pass\n",
    "#     else:\n",
    "#         str_domesticVal = domesticTag.next_sibling\n",
    "#         domesticVal = str_domesticVal.replace('$','')\n",
    "#         domesticVal = domesticVal.replace(',','')\n",
    "#         domesticVal = int(domesticVal)\n",
    "    \n",
    "#     worldwideTag = soup.find('h4', text = re.compile('^Cumulative Worldwide Gross'))\n",
    "#     if worldwideTag is None:\n",
    "#         worldwideVal = None\n",
    "#         pass\n",
    "#     else:\n",
    "#         str_worldwideVal = worldwideTag.next_sibling\n",
    "#         worldwideVal = str_worldwideVal.replace('$','')\n",
    "#         worldwideVal = worldwideVal.replace(',','')\n",
    "#         worldwideVal = int(worldwideVal)\n",
    "    \n",
    "#     # Basic:\n",
    "#     # Append data to table and convert to DataFrame\n",
    "#     # This method returns a DataFrame and will prove inefficient with the filmography function!\n",
    "#     filmdata = []\n",
    "#     filmdata.append([title, year, imdbRating, imdbRatingQty, budgetVal, openingVal, domesticVal, worldwideVal])\n",
    "# #     pdfilmdata = pd.DataFrame(filmdata)\n",
    "#     pdfilmdata = pd.DataFrame(filmdata, columns = ['Title',\n",
    "#                                                'Year',\n",
    "#                                                'IMDB_Rating',\n",
    "#                                                'IMDB_Ratings',\n",
    "#                                                'Budget',\n",
    "#                                                'Opening_Weekend',\n",
    "#                                                'Domestic_Gross',\n",
    "#                                                'Worldwide_Gross'\n",
    "#                                               ])\n",
    "#     return pdfilmdata\n",
    "\n",
    "#     # Advanced:\n",
    "#     # Return list of film data in prescribed order\n",
    "    filmdata = [title, year, imdbRating, imdbRatingQty, budgetVal, openingVal, domesticVal, worldwideVal]\n",
    "    return filmdata"
   ]
  },
  {
   "cell_type": "code",
   "execution_count": 70,
   "metadata": {},
   "outputs": [
    {
     "data": {
      "text/plain": [
       "['Moments', 2013, 6.9, 100, 127.58146946707826, None, None, None]"
      ]
     },
     "execution_count": 70,
     "metadata": {},
     "output_type": "execute_result"
    }
   ],
   "source": [
    "# Test cases:\n",
    "\n",
    "# Example: Mission: Impossible 7\n",
    "# No score, budget, box office\n",
    "# imdb_film_data('/title/tt9603212/')\n",
    "\n",
    "# Example: Luna Park\n",
    "# No score, year, budget, box office\n",
    "# imdb_film_data('/title/tt1123441/')\n",
    "\n",
    "# Example: Edge of Tomorrow\n",
    "# imdb_film_data('/title/tt1631867/')\n",
    "\n",
    "# Example: Moments\n",
    "# Invalid budget\n",
    "imdb_film_data('/title/tt3359412/')"
   ]
  }
 ],
 "metadata": {
  "kernelspec": {
   "display_name": "Python 3",
   "language": "python",
   "name": "python3"
  },
  "language_info": {
   "codemirror_mode": {
    "name": "ipython",
    "version": 3
   },
   "file_extension": ".py",
   "mimetype": "text/x-python",
   "name": "python",
   "nbconvert_exporter": "python",
   "pygments_lexer": "ipython3",
   "version": "3.7.6"
  }
 },
 "nbformat": 4,
 "nbformat_minor": 4
}
