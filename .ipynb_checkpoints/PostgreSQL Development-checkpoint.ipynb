{
 "cells": [
  {
   "cell_type": "markdown",
   "metadata": {},
   "source": [
    "# PostgreSQL Development\n",
    "\n",
    "## To Do\n",
    "- Add ConfigObj functionality\n",
    "\n",
    "## Process\n",
    "1. Connect to PostgreSQL database\n",
    "2. Upsert to PostgreSQL database\n",
    "3. Revise function to prepare upsert\n",
    "4. Revise function to upsert\n",
    "5. Test: Query new data\n",
    "6. Test: Upsert redundant data\n",
    "7. Migrate to Google Cloud\n",
    "\n",
    "## Connecting to PostgreSQL Database\n",
    "Packages\n",
    "Test with DB created in PgAdmin"
   ]
  },
  {
   "cell_type": "code",
   "execution_count": 2,
   "metadata": {},
   "outputs": [
    {
     "ename": "SyntaxError",
     "evalue": "invalid syntax (<ipython-input-2-3fee4c7ee9e7>, line 9)",
     "output_type": "error",
     "traceback": [
      "\u001b[1;36m  File \u001b[1;32m\"<ipython-input-2-3fee4c7ee9e7>\"\u001b[1;36m, line \u001b[1;32m9\u001b[0m\n\u001b[1;33m    password = getpass.getpass(\"Password:\")\u001b[0m\n\u001b[1;37m           ^\u001b[0m\n\u001b[1;31mSyntaxError\u001b[0m\u001b[1;31m:\u001b[0m invalid syntax\n"
     ]
    }
   ],
   "source": [
    "import psycopg2\n",
    "import getpass\n",
    "\n",
    "# Connect to PostgreSQL database\n",
    "conn = psycopg2.connect(\n",
    "    host = \"localhost\",\n",
    "    database = \"Supermart_DB\",\n",
    "    user = \"postgres\"\n",
    "    password = getpass.getpass(\"Password:\")\n",
    ")\n",
    "\n",
    "# Create cursor\n",
    "cur = conn.cursor()\n",
    "\n",
    "# Execute query\n",
    "cur.execute(\"SELECT * FROM IMDB_test LIMIT 100;\")\n",
    "\n",
    "# Fetch all data\n",
    "rows = cur.fetchall()\n",
    "\n",
    "# Print all data\n",
    "for r in rows:\n",
    "    print(r)\n",
    "\n",
    "# Commit transaction\n",
    "conn.commit()\n",
    "\n",
    "# Close cursor and connection\n",
    "cur.close()\n",
    "conn.close()\n"
   ]
  },
  {
   "cell_type": "markdown",
   "metadata": {},
   "source": [
    "## Creating Test Database\n",
    "Schema architecture.\n",
    "- Film table:\n",
    " - film_href [PK] = character varying\n",
    " - title = character varying\n",
    " - year = integer\n",
    " - budget = numeric\n",
    " - opening_wknd = numeric\n",
    " - domestic_gross = numeric\n",
    " - ww_gross = numeric\n",
    " - actor_href = character varying\n",
    "\n",
    "\n",
    "- Actor table:\n",
    " -- actor_href [PK] = character varying\n",
    " -- name = character varying"
   ]
  },
  {
   "cell_type": "code",
   "execution_count": null,
   "metadata": {},
   "outputs": [],
   "source": []
  }
 ],
 "metadata": {
  "kernelspec": {
   "display_name": "Python 3",
   "language": "python",
   "name": "python3"
  },
  "language_info": {
   "codemirror_mode": {
    "name": "ipython",
    "version": 3
   },
   "file_extension": ".py",
   "mimetype": "text/x-python",
   "name": "python",
   "nbconvert_exporter": "python",
   "pygments_lexer": "ipython3",
   "version": "3.7.6"
  }
 },
 "nbformat": 4,
 "nbformat_minor": 4
}
