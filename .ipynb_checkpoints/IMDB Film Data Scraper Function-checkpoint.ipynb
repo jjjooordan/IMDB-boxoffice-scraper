{
 "cells": [
  {
   "cell_type": "markdown",
   "metadata": {},
   "source": [
    "# IMDB Film Data Scraper Function\n",
    "## Web Scraping Development\n",
    "\n",
    "## Objectives\n",
    "* To apply web scraping development work into a film data scraper function"
   ]
  },
  {
   "cell_type": "code",
   "execution_count": 19,
   "metadata": {},
   "outputs": [],
   "source": [
    "# Install packages, if necessary:\n",
    "# pip install requests\n",
    "# pip install beautifulsoup4\n",
    "\n",
    "# Load libraries and URL:\n",
    "import requests\n",
    "import re\n",
    "from bs4 import BeautifulSoup\n",
    "import pandas as pd\n",
    "# import numpy as np\n",
    "# import seaborn as sns"
   ]
  },
  {
   "cell_type": "markdown",
   "metadata": {},
   "source": [
    "## Summarizing Film Data Scraper\n",
    "### UX Summary:\n",
    "* User provides href to complete IMDB title URL\n",
    "* Function retrieves the following data:\n",
    "    * Title\n",
    "    * Year\n",
    "    * Budget\n",
    "    * Opening Weekend\n",
    "    * Domestic Gross\n",
    "    * Worldwide Gross\n",
    "* Function returns DataFrame of IMDB film data"
   ]
  },
  {
   "cell_type": "code",
   "execution_count": 31,
   "metadata": {},
   "outputs": [],
   "source": [
    "# Function input is IMDB title href\n",
    "# Ref. Development - IMDB Film Details Jupyter Notebook for more details\n",
    "\n",
    "def imdb_film_data(href):\n",
    "    # Append href input to full IMDB URL\n",
    "    url = 'https://www.imdb.com' + href\n",
    "    \n",
    "    # Parse URL with BeautifulSoup\n",
    "    r = requests.get(url)\n",
    "    soup = BeautifulSoup(r.content, 'html.parser')\n",
    "    \n",
    "    # Retrieve film data\n",
    "    imdbFilmdata = soup.find('div', class_ = 'title_wrapper')\n",
    "    title_year = imdbFilmdata.h1.text\n",
    "    if imdbFilmdata.h1.span is None:\n",
    "        title = title_year\n",
    "        year = None\n",
    "        pass\n",
    "    else:\n",
    "        yearbrackets = imdbFilmdata.h1.span.text\n",
    "        title = title_year[:-len(yearbrackets)-2]\n",
    "        yearstr = yearbrackets[1:len(yearbrackets)-1]\n",
    "        year = int(yearstr)\n",
    "    \n",
    "    # Retrieve IMDB Rating data\n",
    "    imdbRatingdata = soup.find('div', class_ = 'imdbRating')\n",
    "    if imdbRatingdata is None:\n",
    "        imdbRating = None\n",
    "        imdbRatingQty = None\n",
    "        pass\n",
    "    else:\n",
    "        str_imdbRating = imdbRatingdata.strong.text\n",
    "        str_imdbRatingQty = imdbRatingdata.a.text\n",
    "        imdbRating = float(str_imdbRating)\n",
    "        str_imdbRatingQty = str_imdbRatingQty.replace(',','')\n",
    "        imdbRatingQty = int(str_imdbRatingQty)\n",
    "    \n",
    "    # Retrieve budget data\n",
    "    budgetTag = soup.find('h4', text = re.compile('^Budg'))\n",
    "    if budgetTag is None:\n",
    "        budgetVal = None\n",
    "        pass\n",
    "    else:\n",
    "        str_budgetVal = budgetTag.next_sibling\n",
    "        budgetVal = str_budgetVal.replace('$','')\n",
    "        budgetVal = budgetVal.replace(',','')\n",
    "        budgetVal = int(budgetVal)\n",
    "\n",
    "    # Retrieve box office data\n",
    "    openingTag = soup.find('h4', text = re.compile('^Opening Weekend'))\n",
    "    if openingTag is None:\n",
    "        openingVal = None\n",
    "        pass\n",
    "    else:\n",
    "        str_openingVal = openingTag.next_sibling\n",
    "        openingVal = str_openingVal.replace('$','')\n",
    "        openingVal = openingVal.replace(',','')\n",
    "        openingVal = int(openingVal)\n",
    "    \n",
    "    domesticTag = soup.find('h4', text = re.compile('^Gross '))\n",
    "    if domesticTag is None:\n",
    "        domesticVal = None\n",
    "        pass\n",
    "    else:\n",
    "        str_domesticVal = domesticTag.next_sibling\n",
    "        domesticVal = str_domesticVal.replace('$','')\n",
    "        domesticVal = domesticVal.replace(',','')\n",
    "        domesticVal = int(domesticVal)\n",
    "    \n",
    "    worldwideTag = soup.find('h4', text = re.compile('^Cumulative Worldwide Gross'))\n",
    "    if worldwideTag is None:\n",
    "        worldwideVal = None\n",
    "        pass\n",
    "    else:\n",
    "        str_worldwideVal = worldwideTag.next_sibling\n",
    "        worldwideVal = str_worldwideVal.replace('$','')\n",
    "        worldwideVal = worldwideVal.replace(',','')\n",
    "        worldwideVal = int(worldwideVal)\n",
    "    \n",
    "    # Append data to table and convert to DataFrame\n",
    "    filmdata = []\n",
    "    filmdata.append([title, year, imdbRating, imdbRatingQty, budgetVal, openingVal, domesticVal, worldwideVal])\n",
    "    pdfilmdata = pd.DataFrame(filmdata, columns = ['Title',\n",
    "                                               'Year',\n",
    "                                               'IMDB_Rating',\n",
    "                                               'IMDB_Ratings',\n",
    "                                               'Budget',\n",
    "                                               'Opening_Weekend',\n",
    "                                               'Domestic_Gross',\n",
    "                                               'Worldwide_Gross'\n",
    "                                              ])\n",
    "    return(pdfilmdata)"
   ]
  },
  {
   "cell_type": "code",
   "execution_count": 32,
   "metadata": {},
   "outputs": [
    {
     "data": {
      "text/html": [
       "<div>\n",
       "<style scoped>\n",
       "    .dataframe tbody tr th:only-of-type {\n",
       "        vertical-align: middle;\n",
       "    }\n",
       "\n",
       "    .dataframe tbody tr th {\n",
       "        vertical-align: top;\n",
       "    }\n",
       "\n",
       "    .dataframe thead th {\n",
       "        text-align: right;\n",
       "    }\n",
       "</style>\n",
       "<table border=\"1\" class=\"dataframe\">\n",
       "  <thead>\n",
       "    <tr style=\"text-align: right;\">\n",
       "      <th></th>\n",
       "      <th>Title</th>\n",
       "      <th>Year</th>\n",
       "      <th>IMDB_Rating</th>\n",
       "      <th>IMDB_Ratings</th>\n",
       "      <th>Budget</th>\n",
       "      <th>Opening_Weekend</th>\n",
       "      <th>Domestic_Gross</th>\n",
       "      <th>Worldwide_Gross</th>\n",
       "    </tr>\n",
       "  </thead>\n",
       "  <tbody>\n",
       "    <tr>\n",
       "      <th>0</th>\n",
       "      <td>Top Gun</td>\n",
       "      <td>1986</td>\n",
       "      <td>6.9</td>\n",
       "      <td>284538</td>\n",
       "      <td>15000000</td>\n",
       "      <td>8193052</td>\n",
       "      <td>179800601</td>\n",
       "      <td>356830601</td>\n",
       "    </tr>\n",
       "  </tbody>\n",
       "</table>\n",
       "</div>"
      ],
      "text/plain": [
       "     Title  Year  IMDB_Rating  IMDB_Ratings    Budget  Opening_Weekend  \\\n",
       "0  Top Gun  1986          6.9        284538  15000000          8193052   \n",
       "\n",
       "   Domestic_Gross  Worldwide_Gross  \n",
       "0       179800601        356830601  "
      ]
     },
     "execution_count": 32,
     "metadata": {},
     "output_type": "execute_result"
    }
   ],
   "source": [
    "# Example: Top Gun\n",
    "imdb_film_data('/title/tt0092099/')"
   ]
  },
  {
   "cell_type": "markdown",
   "metadata": {},
   "source": [
    "\n",
    "## Summarizing Filmography Data Scraper\n",
    "### UX Summary:\n",
    "* User provides href to complete IMDB actor URL\n",
    "* Function retrieves the following data:\n",
    "    * All films with Actor credits\n",
    "    * Associated href for each film to be used in IMDB film data scraper\n",
    "* Function returns a DataFrame with all IMDB film data for each film"
   ]
  },
  {
   "cell_type": "code",
   "execution_count": 42,
   "metadata": {},
   "outputs": [
    {
     "ename": "SyntaxError",
     "evalue": "invalid syntax (<ipython-input-42-e2fe4538b41f>, line 16)",
     "output_type": "error",
     "traceback": [
      "\u001b[0;36m  File \u001b[0;32m\"<ipython-input-42-e2fe4538b41f>\"\u001b[0;36m, line \u001b[0;32m16\u001b[0m\n\u001b[0;31m    Append data to table and convert to DataFrame\u001b[0m\n\u001b[0m           ^\u001b[0m\n\u001b[0;31mSyntaxError\u001b[0m\u001b[0;31m:\u001b[0m invalid syntax\n"
     ]
    }
   ],
   "source": [
    "# Function input is IMDB actor href\n",
    "# Ref. Development - IMDB Actor Filmography Jupyter Notebook for more details\n",
    "\n",
    "def imdb_filmography_data(href):\n",
    "    # Append href input to full IMDB URL\n",
    "    url = 'https://www.imdb.com' + href\n",
    "    \n",
    "    # Parse URL with BeautifulSoup\n",
    "    r = requests.get(url)\n",
    "    soup = BeautifulSoup(r.content, 'html.parser')\n",
    "    \n",
    "    # Retrieve filmography data\n",
    "    films = soup.find_all('div', id = re.compile('^actor-'))\n",
    "    \n",
    "    # Basic:\n",
    "    Append data to table and convert to DataFrame\n",
    "    filmsarray = []\n",
    "    for film in films:\n",
    "        filmsarray.append([film.a.text, film.a.get('href')])\n",
    "    pdfilms = pd.DataFrame(filmsarray, columns = ['Title', 'href'])\n",
    "    return(pdfilms)\n",
    "\n",
    "#     # Advanced:\n",
    "#     # Apply each href in table to IMDB film data function and convert to DataFrame\n",
    "#     filmsarray = []\n",
    "#     for film in films:\n",
    "#         filmsarray.append(imdb_film_data(film.a.get('href')))\n",
    "#     pdfilms = pd.DataFrame(filmsarray)\n",
    "#     return(pdfilms)    \n"
   ]
  },
  {
   "cell_type": "code",
   "execution_count": 41,
   "metadata": {},
   "outputs": [
    {
     "ename": "ValueError",
     "evalue": "invalid literal for int() with base 10: 'EUR4749500\\n            '",
     "output_type": "error",
     "traceback": [
      "\u001b[0;31m---------------------------------------------------------------------------\u001b[0m",
      "\u001b[0;31mValueError\u001b[0m                                Traceback (most recent call last)",
      "\u001b[0;32m<ipython-input-41-391128e1c3e6>\u001b[0m in \u001b[0;36m<module>\u001b[0;34m\u001b[0m\n\u001b[1;32m      3\u001b[0m \u001b[0;34m\u001b[0m\u001b[0m\n\u001b[1;32m      4\u001b[0m \u001b[0;31m# Example: Tom Holland\u001b[0m\u001b[0;34m\u001b[0m\u001b[0;34m\u001b[0m\u001b[0;34m\u001b[0m\u001b[0m\n\u001b[0;32m----> 5\u001b[0;31m \u001b[0mimdb_filmography_data\u001b[0m\u001b[0;34m(\u001b[0m\u001b[0;34m'/name/nm4043618/'\u001b[0m\u001b[0;34m)\u001b[0m\u001b[0;34m\u001b[0m\u001b[0;34m\u001b[0m\u001b[0m\n\u001b[0m",
      "\u001b[0;32m<ipython-input-40-a81b9cbcb1a9>\u001b[0m in \u001b[0;36mimdb_filmography_data\u001b[0;34m(href)\u001b[0m\n\u001b[1;32m     25\u001b[0m     \u001b[0mfilmsarray\u001b[0m \u001b[0;34m=\u001b[0m \u001b[0;34m[\u001b[0m\u001b[0;34m]\u001b[0m\u001b[0;34m\u001b[0m\u001b[0;34m\u001b[0m\u001b[0m\n\u001b[1;32m     26\u001b[0m     \u001b[0;32mfor\u001b[0m \u001b[0mfilm\u001b[0m \u001b[0;32min\u001b[0m \u001b[0mfilms\u001b[0m\u001b[0;34m:\u001b[0m\u001b[0;34m\u001b[0m\u001b[0;34m\u001b[0m\u001b[0m\n\u001b[0;32m---> 27\u001b[0;31m         \u001b[0mfilmsarray\u001b[0m\u001b[0;34m.\u001b[0m\u001b[0mappend\u001b[0m\u001b[0;34m(\u001b[0m\u001b[0mimdb_film_data\u001b[0m\u001b[0;34m(\u001b[0m\u001b[0mfilm\u001b[0m\u001b[0;34m.\u001b[0m\u001b[0ma\u001b[0m\u001b[0;34m.\u001b[0m\u001b[0mget\u001b[0m\u001b[0;34m(\u001b[0m\u001b[0;34m'href'\u001b[0m\u001b[0;34m)\u001b[0m\u001b[0;34m)\u001b[0m\u001b[0;34m)\u001b[0m\u001b[0;34m\u001b[0m\u001b[0;34m\u001b[0m\u001b[0m\n\u001b[0m\u001b[1;32m     28\u001b[0m     \u001b[0mpdfilms\u001b[0m \u001b[0;34m=\u001b[0m \u001b[0mpd\u001b[0m\u001b[0;34m.\u001b[0m\u001b[0mDataFrame\u001b[0m\u001b[0;34m(\u001b[0m\u001b[0mfilmsarray\u001b[0m\u001b[0;34m)\u001b[0m\u001b[0;34m\u001b[0m\u001b[0;34m\u001b[0m\u001b[0m\n\u001b[1;32m     29\u001b[0m     \u001b[0;32mreturn\u001b[0m\u001b[0;34m(\u001b[0m\u001b[0mpdfilms\u001b[0m\u001b[0;34m)\u001b[0m\u001b[0;34m\u001b[0m\u001b[0;34m\u001b[0m\u001b[0m\n",
      "\u001b[0;32m<ipython-input-31-81c478dae6ea>\u001b[0m in \u001b[0;36mimdb_film_data\u001b[0;34m(href)\u001b[0m\n\u001b[1;32m     45\u001b[0m         \u001b[0mbudgetVal\u001b[0m \u001b[0;34m=\u001b[0m \u001b[0mstr_budgetVal\u001b[0m\u001b[0;34m.\u001b[0m\u001b[0mreplace\u001b[0m\u001b[0;34m(\u001b[0m\u001b[0;34m'$'\u001b[0m\u001b[0;34m,\u001b[0m\u001b[0;34m''\u001b[0m\u001b[0;34m)\u001b[0m\u001b[0;34m\u001b[0m\u001b[0;34m\u001b[0m\u001b[0m\n\u001b[1;32m     46\u001b[0m         \u001b[0mbudgetVal\u001b[0m \u001b[0;34m=\u001b[0m \u001b[0mbudgetVal\u001b[0m\u001b[0;34m.\u001b[0m\u001b[0mreplace\u001b[0m\u001b[0;34m(\u001b[0m\u001b[0;34m','\u001b[0m\u001b[0;34m,\u001b[0m\u001b[0;34m''\u001b[0m\u001b[0;34m)\u001b[0m\u001b[0;34m\u001b[0m\u001b[0;34m\u001b[0m\u001b[0m\n\u001b[0;32m---> 47\u001b[0;31m         \u001b[0mbudgetVal\u001b[0m \u001b[0;34m=\u001b[0m \u001b[0mint\u001b[0m\u001b[0;34m(\u001b[0m\u001b[0mbudgetVal\u001b[0m\u001b[0;34m)\u001b[0m\u001b[0;34m\u001b[0m\u001b[0;34m\u001b[0m\u001b[0m\n\u001b[0m\u001b[1;32m     48\u001b[0m \u001b[0;34m\u001b[0m\u001b[0m\n\u001b[1;32m     49\u001b[0m     \u001b[0;31m# Retrieve box office data\u001b[0m\u001b[0;34m\u001b[0m\u001b[0;34m\u001b[0m\u001b[0;34m\u001b[0m\u001b[0m\n",
      "\u001b[0;31mValueError\u001b[0m: invalid literal for int() with base 10: 'EUR4749500\\n            '"
     ]
    }
   ],
   "source": [
    "# Example: Tom Cruise\n",
    "# imdb_filmography_data('/name/nm0000129/')\n",
    "\n",
    "# Example: Tom Holland\n",
    "imdb_filmography_data('/name/nm4043618/')\n"
   ]
  },
  {
   "cell_type": "code",
   "execution_count": null,
   "metadata": {},
   "outputs": [],
   "source": []
  }
 ],
 "metadata": {
  "kernelspec": {
   "display_name": "Python 3",
   "language": "python",
   "name": "python3"
  },
  "language_info": {
   "codemirror_mode": {
    "name": "ipython",
    "version": 3
   },
   "file_extension": ".py",
   "mimetype": "text/x-python",
   "name": "python",
   "nbconvert_exporter": "python",
   "pygments_lexer": "ipython3",
   "version": "3.8.3"
  }
 },
 "nbformat": 4,
 "nbformat_minor": 4
}
