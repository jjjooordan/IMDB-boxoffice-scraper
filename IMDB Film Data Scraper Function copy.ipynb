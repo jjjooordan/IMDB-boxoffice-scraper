{
 "cells": [
  {
   "cell_type": "markdown",
   "metadata": {},
   "source": [
    "# IMDB Film Data Scraper Function\n",
    "## Web Scraping Development\n",
    "\n",
    "## Objectives\n",
    "* To apply web scraping development work into a film data scraper function"
   ]
  },
  {
   "cell_type": "code",
   "execution_count": 1,
   "metadata": {},
   "outputs": [],
   "source": [
    "# Install packages, if necessary:\n",
    "# pip install requests\n",
    "# pip install beautifulsoup4\n",
    "\n",
    "# Load libraries and URL:\n",
    "import requests\n",
    "import re\n",
    "from bs4 import BeautifulSoup\n",
    "import pandas as pd\n",
    "# import numpy as np\n",
    "# import seaborn as sns"
   ]
  },
  {
   "cell_type": "markdown",
   "metadata": {},
   "source": [
    "## Summarizing Film Data Scraper\n",
    "### UX Summary:\n",
    "* User provides href to complete IMDB title URL\n",
    "* Function retrieves the following data:\n",
    "    * Title\n",
    "    * Year\n",
    "    * Budget\n",
    "    * Opening Weekend\n",
    "    * Domestic Gross\n",
    "    * Worldwide Gross\n",
    "* Function returns DataFrame of IMDB film data"
   ]
  },
  {
   "cell_type": "code",
   "execution_count": 5,
   "metadata": {},
   "outputs": [],
   "source": [
    "# Exchange rate function to convert budget and box office values to USD\n",
    "# Ref. Development - IMDB Film Details Jupyter Notebook for more details\n",
    "def usd_conversion(native_value):\n",
    "    # Call Exchange Rates API to look up latest USD exchange rates\n",
    "    r_usd = 'https://api.exchangeratesapi.io/latest?base=USD'\n",
    "    usd_response = requests.get(r_usd)\n",
    "    rates = usd_response.json()\n",
    "    \n",
    "    # Parse reported value to determine currency used and remove currency code from string\n",
    "    native_value = native_value.strip()\n",
    "    if native_value[0] == '$':\n",
    "        num_value = native_value.replace('$','')\n",
    "        exchange_rate = 1\n",
    "    else:\n",
    "        currency = native_value[:3]\n",
    "        exchange_rate = rates['rates'][currency]\n",
    "        num_value = native_value[3:]\n",
    "    num_value = num_value.replace(',','')\n",
    "    if num_value.isnumeric() is True:\n",
    "        usd_value = float(num_value) / exchange_rate\n",
    "    else:\n",
    "        usd_value = None\n",
    "    return usd_value\n"
   ]
  },
  {
   "cell_type": "code",
   "execution_count": 6,
   "metadata": {},
   "outputs": [],
   "source": [
    "# Function input is IMDB title href\n",
    "# Ref. Development - IMDB Film Details Jupyter Notebook for more details\n",
    "\n",
    "def imdb_film_data(film_href):\n",
    "    # Append film_href input to full IMDB URL\n",
    "    url = 'https://www.imdb.com' + film_href\n",
    "    \n",
    "    # Parse IMDB URL with BeautifulSoup\n",
    "    r = requests.get(url)\n",
    "    soup = BeautifulSoup(r.content, 'html.parser')\n",
    "    \n",
    "    # Retrieve film title and release year data\n",
    "    # Create variables title, year\n",
    "    imdbFilmdata = soup.find('div', class_ = 'title_wrapper')\n",
    "    title_year = imdbFilmdata.h1.text\n",
    "    if imdbFilmdata.h1.span is None:\n",
    "        title_year = title_year.replace(u'\\xa0',u' ')\n",
    "        title = title_year.strip()\n",
    "        year = None\n",
    "        pass\n",
    "    else:\n",
    "        yearbrackets = imdbFilmdata.h1.span.text\n",
    "        title = title_year[:-len(yearbrackets)-2]\n",
    "        yearstr = yearbrackets[1:len(yearbrackets)-1]\n",
    "        year = int(yearstr)\n",
    "    \n",
    "    # Retrieve IMDB Rating and number of ratings submitted data\n",
    "    # Create variables imdbRating, imdbRatingQty\n",
    "    imdbRatingdata = soup.find('div', class_ = 'imdbRating')\n",
    "    if imdbRatingdata is None:\n",
    "        imdbRating = None\n",
    "        imdbRatingQty = None\n",
    "        pass\n",
    "    else:\n",
    "        str_imdbRating = imdbRatingdata.strong.text\n",
    "        str_imdbRatingQty = imdbRatingdata.a.text\n",
    "        imdbRating = float(str_imdbRating)\n",
    "        str_imdbRatingQty = str_imdbRatingQty.replace(',','')\n",
    "        imdbRatingQty = int(str_imdbRatingQty)\n",
    "\n",
    "    # Retrieve budget data\n",
    "    # Create variable budgetVal\n",
    "    budgetTag = soup.find('h4', text = re.compile('^Budg'))\n",
    "    if budgetTag is None:\n",
    "        budgetVal = None\n",
    "        pass\n",
    "    else:\n",
    "        str_budgetVal = budgetTag.next_sibling\n",
    "        budgetVal = usd_conversion(str_budgetVal)\n",
    "\n",
    "    # Retrieve box office data including opening weekend, gross domestic, and worldwide gross values\n",
    "    # Create variable openingVal, domesticVal, worldwideVal\n",
    "    openingTag = soup.find('h4', text = re.compile('^Opening Weekend'))\n",
    "    if openingTag is None:\n",
    "        openingVal = None\n",
    "        pass\n",
    "    else:\n",
    "        str_openingVal = openingTag.next_sibling\n",
    "        openingVal = usd_conversion(str_openingVal)\n",
    "    \n",
    "    domesticTag = soup.find('h4', text = re.compile('^Gross '))\n",
    "    if domesticTag is None:\n",
    "        domesticVal = None\n",
    "        pass\n",
    "    else:\n",
    "        str_domesticVal = domesticTag.next_sibling\n",
    "        domesticVal = usd_conversion(str_domesticVal)\n",
    "    \n",
    "    worldwideTag = soup.find('h4', text = re.compile('^Cumulative Worldwide Gross'))\n",
    "    if worldwideTag is None:\n",
    "        worldwideVal = None\n",
    "        pass\n",
    "    else:\n",
    "        str_worldwideVal = worldwideTag.next_sibling\n",
    "        worldwideVal = usd_conversion(str_worldwideVal)\n",
    "\n",
    "    # Return list of film data in prescribed order\n",
    "    filmdata = [film_href, title, year, imdbRating, imdbRatingQty, budgetVal, openingVal, domesticVal, worldwideVal]\n",
    "    return filmdata"
   ]
  },
  {
   "cell_type": "code",
   "execution_count": 7,
   "metadata": {},
   "outputs": [
    {
     "output_type": "execute_result",
     "data": {
      "text/plain": "['/title/tt0092099/',\n 'Top Gun',\n 1986,\n 6.9,\n 284882,\n 15000000.0,\n 8193052.0,\n 179800601.0,\n 356830601.0]"
     },
     "metadata": {},
     "execution_count": 7
    }
   ],
   "source": [
    "# Example: Top Gun\n",
    "imdb_film_data('/title/tt0092099/')"
   ]
  },
  {
   "cell_type": "markdown",
   "metadata": {},
   "source": [
    "\n",
    "## Summarizing Filmography Data Scraper\n",
    "### UX Summary:\n",
    "* User provides href to complete IMDB actor URL\n",
    "* Function retrieves the following data:\n",
    "    * All films with Actor credits\n",
    "    * Associated href for each film to be used in IMDB film data scraper\n",
    "* Function returns a DataFrame with all IMDB film data for each film"
   ]
  },
  {
   "cell_type": "code",
   "execution_count": 22,
   "metadata": {},
   "outputs": [],
   "source": [
    "# Function input is IMDB actor href\n",
    "# Ref. Development - IMDB Actor Filmography Jupyter Notebook for more details\n",
    "# Time measures added to measure efficiency\n",
    "\n",
    "# IMDB_filmo_scaper.py\n",
    "# Ref. Development - IMDB Actor Filmography Jupyter Notebook for more details\n",
    "\n",
    "def imdb_filmo_scraper(actor_href):\n",
    "#     # Function timing\n",
    "#     filmostart = pd.Timestamp.now()\n",
    "#     print('IMDB Filmography Time Start!')\n",
    "    \n",
    "    # Append href input to full IMDB URL\n",
    "    imdbUrl = 'https://www.imdb.com' + actor_href\n",
    "\n",
    "    # Parse URL with BeautifulSoup\n",
    "    r = requests.get(imdbUrl)\n",
    "    soup = BeautifulSoup(r.content, 'html.parser')\n",
    "    \n",
    "    # Retrieve filmography data\n",
    "    # Revised for Actor and Actress credits\n",
    "    films = soup.find_all('div', id = re.compile('^act'))\n",
    "    \n",
    "#     # Time milestone - Site parse time\n",
    "#     siteparsetime = pd.Timestamp.now()\n",
    "#     print('Site parsed - Time elapsed:')\n",
    "#     print(siteparsetime - filmostart)\n",
    "\n",
    "#     startfilmoprocessing = pd.Timestamp.now()\n",
    "\n",
    "    # Create array, append what each href returns from IMDB Film Data function, then convert array to DataFrame \n",
    "    filmsarray = []\n",
    "    for film in films:\n",
    "        film_href = film.a.get('href')\n",
    "        film_row = imdb_film_data(film_href)\n",
    "        film_row.insert(0, actor_href)\n",
    "        filmact_id = film_href + actor_href\n",
    "        film_row.insert(0, filmact_id)\n",
    "        filmsarray.append(film_row)\n",
    "        \n",
    "#         # Time milestone - Each film iteration in array\n",
    "#         print('Film processed:')\n",
    "#         print(pd.Timestamp.now())\n",
    "        \n",
    "    filmspd = pd.DataFrame(filmsarray, columns = ['filmact_id',\n",
    "                                                  'actor_href',\n",
    "                                                  'film_href',\n",
    "                                                  'Title',\n",
    "                                                  'Year',\n",
    "                                                  'IMDB_Rating',\n",
    "                                                  '#_of_Ratings',\n",
    "                                                  'Budget',\n",
    "                                                  'Opening_Weekend',\n",
    "                                                  'Domestic_Gross',\n",
    "                                                  'Worldwide_Gross'\n",
    "                                                 ])\n",
    "#     # Time milestone - Filmography processing done\n",
    "#     print('Total time:')\n",
    "#     print(pd.Timestamp.now() - filmostart)\n",
    "    return filmspd\n"
   ]
  },
  {
   "cell_type": "code",
   "execution_count": 23,
   "metadata": {
    "scrolled": false
   },
   "outputs": [
    {
     "output_type": "execute_result",
     "data": {
      "text/plain": "                            filmact_id        actor_href           film_href  \\\n0    /title/tt9603212//name/nm0000129/  /name/nm0000129/   /title/tt9603212/   \n1    /title/tt1123441//name/nm0000129/  /name/nm0000129/   /title/tt1123441/   \n2   /title/tt12273460//name/nm0000129/  /name/nm0000129/  /title/tt12273460/   \n3    /title/tt9603208//name/nm0000129/  /name/nm0000129/   /title/tt9603208/   \n4    /title/tt5617712//name/nm0000129/  /name/nm0000129/   /title/tt5617712/   \n5    /title/tt1745960//name/nm0000129/  /name/nm0000129/   /title/tt1745960/   \n6    /title/tt4912910//name/nm0000129/  /name/nm0000129/   /title/tt4912910/   \n7    /title/tt3532216//name/nm0000129/  /name/nm0000129/   /title/tt3532216/   \n8    /title/tt2345759//name/nm0000129/  /name/nm0000129/   /title/tt2345759/   \n9    /title/tt3393786//name/nm0000129/  /name/nm0000129/   /title/tt3393786/   \n10   /title/tt2381249//name/nm0000129/  /name/nm0000129/   /title/tt2381249/   \n11   /title/tt1631867//name/nm0000129/  /name/nm0000129/   /title/tt1631867/   \n12   /title/tt1483013//name/nm0000129/  /name/nm0000129/   /title/tt1483013/   \n13   /title/tt0790724//name/nm0000129/  /name/nm0000129/   /title/tt0790724/   \n14   /title/tt1336608//name/nm0000129/  /name/nm0000129/   /title/tt1336608/   \n15   /title/tt1229238//name/nm0000129/  /name/nm0000129/   /title/tt1229238/   \n16   /title/tt1013743//name/nm0000129/  /name/nm0000129/   /title/tt1013743/   \n17   /title/tt0985699//name/nm0000129/  /name/nm0000129/   /title/tt0985699/   \n18   /title/tt0942385//name/nm0000129/  /name/nm0000129/   /title/tt0942385/   \n19   /title/tt0891527//name/nm0000129/  /name/nm0000129/   /title/tt0891527/   \n20   /title/tt0317919//name/nm0000129/  /name/nm0000129/   /title/tt0317919/   \n21   /title/tt0407304//name/nm0000129/  /name/nm0000129/   /title/tt0407304/   \n22   /title/tt0369339//name/nm0000129/  /name/nm0000129/   /title/tt0369339/   \n23   /title/tt0325710//name/nm0000129/  /name/nm0000129/   /title/tt0325710/   \n24   /title/tt0295178//name/nm0000129/  /name/nm0000129/   /title/tt0295178/   \n25   /title/tt0181689//name/nm0000129/  /name/nm0000129/   /title/tt0181689/   \n26   /title/tt0259711//name/nm0000129/  /name/nm0000129/   /title/tt0259711/   \n27   /title/tt0120755//name/nm0000129/  /name/nm0000129/   /title/tt0120755/   \n28   /title/tt0175880//name/nm0000129/  /name/nm0000129/   /title/tt0175880/   \n29   /title/tt5094696//name/nm0000129/  /name/nm0000129/   /title/tt5094696/   \n30   /title/tt0120663//name/nm0000129/  /name/nm0000129/   /title/tt0120663/   \n31   /title/tt0116695//name/nm0000129/  /name/nm0000129/   /title/tt0116695/   \n32   /title/tt0117060//name/nm0000129/  /name/nm0000129/   /title/tt0117060/   \n33   /title/tt0110148//name/nm0000129/  /name/nm0000129/   /title/tt0110148/   \n34   /title/tt0106918//name/nm0000129/  /name/nm0000129/   /title/tt0106918/   \n35   /title/tt0104257//name/nm0000129/  /name/nm0000129/   /title/tt0104257/   \n36   /title/tt0104231//name/nm0000129/  /name/nm0000129/   /title/tt0104231/   \n37   /title/tt0099371//name/nm0000129/  /name/nm0000129/   /title/tt0099371/   \n38   /title/tt0096969//name/nm0000129/  /name/nm0000129/   /title/tt0096969/   \n39   /title/tt0095953//name/nm0000129/  /name/nm0000129/   /title/tt0095953/   \n40   /title/tt0094889//name/nm0000129/  /name/nm0000129/   /title/tt0094889/   \n41   /title/tt0090863//name/nm0000129/  /name/nm0000129/   /title/tt0090863/   \n42   /title/tt0092099//name/nm0000129/  /name/nm0000129/   /title/tt0092099/   \n43   /title/tt0089469//name/nm0000129/  /name/nm0000129/   /title/tt0089469/   \n44   /title/tt0085154//name/nm0000129/  /name/nm0000129/   /title/tt0085154/   \n45   /title/tt0086200//name/nm0000129/  /name/nm0000129/   /title/tt0086200/   \n46   /title/tt0085868//name/nm0000129/  /name/nm0000129/   /title/tt0085868/   \n47   /title/tt0086066//name/nm0000129/  /name/nm0000129/   /title/tt0086066/   \n48   /title/tt0083169//name/nm0000129/  /name/nm0000129/   /title/tt0083169/   \n49   /title/tt0082329//name/nm0000129/  /name/nm0000129/   /title/tt0082329/   \n\n                                                Title    Year  IMDB_Rating  \\\n0                               Mission: Impossible 7  2021.0          NaN   \n1                                           Luna Park     NaN          NaN   \n2                  Untitled Tom Cruise/SpaceX Project     NaN          NaN   \n3                               Mission: Impossible 8  2022.0          NaN   \n4                          Live Die Repeat and Repeat     NaN          NaN   \n5                                   Top Gun: Maverick  2021.0          NaN   \n6                       Mission: Impossible - Fallout  2018.0          7.7   \n7                                       American Made  2017.0          7.2   \n8                                           The Mummy  2017.0          5.4   \n9                         Jack Reacher: Never Go Back  2016.0          6.1   \n10                 Mission: Impossible - Rogue Nation  2015.0          7.4   \n11                                   Edge of Tomorrow  2014.0          7.9   \n12                                           Oblivion  2013.0          7.0   \n13                                       Jack Reacher  2012.0          7.0   \n14                                       Rock of Ages  2012.0          5.9   \n15               Mission: Impossible - Ghost Protocol  2011.0          7.4   \n16                                     Knight and Day  2010.0          6.3   \n17                                           Valkyrie  2008.0          7.1   \n18                                     Tropic Thunder  2008.0          7.0   \n19                                    Lions for Lambs  2007.0          6.2   \n20                            Mission: Impossible III  2006.0          6.9   \n21                                  War of the Worlds  2005.0          6.5   \n22                                         Collateral  2004.0          7.5   \n23                                   The Last Samurai  2003.0          7.7   \n24                        Austin Powers in Goldmember  2002.0          6.2   \n25                                    Minority Report  2002.0          7.6   \n26                                        Vanilla Sky  2001.0          6.9   \n27                             Mission: Impossible II  2000.0          6.1   \n28                                           Magnolia  1999.0          8.0   \n29                                Aimee Mann: Save Me  1999.0          6.5   \n30                                     Eyes Wide Shut  1999.0          7.4   \n31                                      Jerry Maguire  1996.0          7.3   \n32                                Mission: Impossible  1996.0          7.1   \n33  Interview with the Vampire: The Vampire Chroni...  1994.0          7.6   \n34                                           The Firm  1993.0          6.8   \n35                                     A Few Good Men  1992.0          7.7   \n36                                       Far and Away  1992.0          6.6   \n37                                    Days of Thunder  1990.0          6.0   \n38                         Born on the Fourth of July  1989.0          7.2   \n39                                           Rain Man  1988.0          8.0   \n40                                           Cocktail  1988.0          5.9   \n41                                 The Color of Money  1986.0          7.0   \n42                                            Top Gun  1986.0          6.9   \n43                                             Legend  1985.0          6.5   \n44                                All the Right Moves  1983.0          5.9   \n45                                     Risky Business  1983.0          6.8   \n46                                          Losin' It  1983.0          4.9   \n47                                      The Outsiders  1983.0          7.1   \n48                                               Taps  1981.0          6.8   \n49                                       Endless Love  1981.0          4.9   \n\n    #_of_Ratings       Budget  Opening_Weekend  Domestic_Gross  \\\n0            NaN          NaN              NaN             NaN   \n1            NaN          NaN              NaN             NaN   \n2            NaN  200000000.0              NaN             NaN   \n3            NaN          NaN              NaN             NaN   \n4            NaN          NaN              NaN             NaN   \n5            NaN          NaN              NaN             NaN   \n6       278525.0  178000000.0       61236534.0     220159104.0   \n7       152369.0   50000000.0       16776390.0      51342000.0   \n8       168273.0  125000000.0       31688375.0      80227895.0   \n9       133517.0   60000000.0       22872490.0      58697076.0   \n10      333109.0  150000000.0       55520089.0     195042377.0   \n11      583659.0  178000000.0       28760246.0     100206256.0   \n12      475504.0  120000000.0       37054485.0      89107235.0   \n13      300855.0   60000000.0       15210156.0      80070736.0   \n14       72594.0   75000000.0       14437269.0      38518613.0   \n15      448256.0  145000000.0       12785204.0     209397903.0   \n16      176789.0  117000000.0       20139985.0      76423035.0   \n17      224118.0   75000000.0       21027007.0      83077833.0   \n18      370704.0   92000000.0       25812796.0     110515313.0   \n19       46727.0   35000000.0        6702434.0      15002854.0   \n20      323054.0  150000000.0       47743273.0     134029801.0   \n21      407594.0  132000000.0       64878725.0     234280354.0   \n22      350966.0   65000000.0       24701458.0     101005703.0   \n23      390282.0  140000000.0       24271354.0     111127263.0   \n24      192181.0   63000000.0       73071188.0     213307889.0   \n25      496863.0  102000000.0       35677125.0     132072926.0   \n26      243687.0   68000000.0       25015518.0     100618344.0   \n27      307302.0  125000000.0       57845297.0     215409889.0   \n28      283699.0   37000000.0         193604.0      22455976.0   \n29         273.0          NaN              NaN             NaN   \n30      292967.0   65000000.0       21706163.0      55691208.0   \n31      237070.0   50000000.0       17084296.0     153952592.0   \n32      378803.0   80000000.0       45436830.0     180981856.0   \n33      288303.0   60000000.0       36389705.0     105264608.0   \n34      115157.0   42000000.0       25400000.0     158348367.0   \n35      228312.0   41000000.0       15517468.0     141340178.0   \n36       57600.0   60000000.0       10194520.0      58883840.0   \n37       77077.0   60000000.0       15490445.0      82670733.0   \n38       95964.0   14000000.0         172021.0      70001698.0   \n39      463319.0   25000000.0        7005719.0     172825435.0   \n40       77606.0   20000000.0       11789466.0      78222753.0   \n41       72487.0   13800000.0        6357877.0      52293982.0   \n42      284887.0   15000000.0        8193052.0     179800601.0   \n43       58303.0   24500000.0        4261154.0      15502112.0   \n44       15258.0    5600000.0        1625486.0      17233166.0   \n45       78639.0    6200000.0        4275327.0      63541777.0   \n46        3977.0    7000000.0         437257.0       1246141.0   \n47       73030.0   10000000.0        5068165.0      25697647.0   \n48       16234.0   14000000.0          93005.0      35856053.0   \n49        6982.0          NaN        4163623.0      31184024.0   \n\n    Worldwide_Gross  \n0               NaN  \n1               NaN  \n2               NaN  \n3               NaN  \n4               NaN  \n5               NaN  \n6       791115104.0  \n7       134866593.0  \n8       409231607.0  \n9       162146076.0  \n10      682715352.0  \n11      370541256.0  \n12      286168572.0  \n13      218340595.0  \n14       59418613.0  \n15      694713380.0  \n16      261989769.0  \n17      201545517.0  \n18      195702811.0  \n19       64811540.0  \n20      398479497.0  \n21      603873119.0  \n22      220926695.0  \n23      454627263.0  \n24      296938801.0  \n25      358372926.0  \n26      203388341.0  \n27      546388108.0  \n28       48451803.0  \n29              NaN  \n30      162242684.0  \n31      273552592.0  \n32      457731198.0  \n33      223664608.0  \n34      270248367.0  \n35      243240178.0  \n36      137783840.0  \n37      157920733.0  \n38      161001698.0  \n39      354825435.0  \n40      171504781.0  \n41       52293982.0  \n42      356830601.0  \n43       15502112.0  \n44       17233166.0  \n45       63541777.0  \n46        1246141.0  \n47       25697647.0  \n48       35856053.0  \n49       32492674.0  ",
      "text/html": "<div>\n<style scoped>\n    .dataframe tbody tr th:only-of-type {\n        vertical-align: middle;\n    }\n\n    .dataframe tbody tr th {\n        vertical-align: top;\n    }\n\n    .dataframe thead th {\n        text-align: right;\n    }\n</style>\n<table border=\"1\" class=\"dataframe\">\n  <thead>\n    <tr style=\"text-align: right;\">\n      <th></th>\n      <th>filmact_id</th>\n      <th>actor_href</th>\n      <th>film_href</th>\n      <th>Title</th>\n      <th>Year</th>\n      <th>IMDB_Rating</th>\n      <th>#_of_Ratings</th>\n      <th>Budget</th>\n      <th>Opening_Weekend</th>\n      <th>Domestic_Gross</th>\n      <th>Worldwide_Gross</th>\n    </tr>\n  </thead>\n  <tbody>\n    <tr>\n      <th>0</th>\n      <td>/title/tt9603212//name/nm0000129/</td>\n      <td>/name/nm0000129/</td>\n      <td>/title/tt9603212/</td>\n      <td>Mission: Impossible 7</td>\n      <td>2021.0</td>\n      <td>NaN</td>\n      <td>NaN</td>\n      <td>NaN</td>\n      <td>NaN</td>\n      <td>NaN</td>\n      <td>NaN</td>\n    </tr>\n    <tr>\n      <th>1</th>\n      <td>/title/tt1123441//name/nm0000129/</td>\n      <td>/name/nm0000129/</td>\n      <td>/title/tt1123441/</td>\n      <td>Luna Park</td>\n      <td>NaN</td>\n      <td>NaN</td>\n      <td>NaN</td>\n      <td>NaN</td>\n      <td>NaN</td>\n      <td>NaN</td>\n      <td>NaN</td>\n    </tr>\n    <tr>\n      <th>2</th>\n      <td>/title/tt12273460//name/nm0000129/</td>\n      <td>/name/nm0000129/</td>\n      <td>/title/tt12273460/</td>\n      <td>Untitled Tom Cruise/SpaceX Project</td>\n      <td>NaN</td>\n      <td>NaN</td>\n      <td>NaN</td>\n      <td>200000000.0</td>\n      <td>NaN</td>\n      <td>NaN</td>\n      <td>NaN</td>\n    </tr>\n    <tr>\n      <th>3</th>\n      <td>/title/tt9603208//name/nm0000129/</td>\n      <td>/name/nm0000129/</td>\n      <td>/title/tt9603208/</td>\n      <td>Mission: Impossible 8</td>\n      <td>2022.0</td>\n      <td>NaN</td>\n      <td>NaN</td>\n      <td>NaN</td>\n      <td>NaN</td>\n      <td>NaN</td>\n      <td>NaN</td>\n    </tr>\n    <tr>\n      <th>4</th>\n      <td>/title/tt5617712//name/nm0000129/</td>\n      <td>/name/nm0000129/</td>\n      <td>/title/tt5617712/</td>\n      <td>Live Die Repeat and Repeat</td>\n      <td>NaN</td>\n      <td>NaN</td>\n      <td>NaN</td>\n      <td>NaN</td>\n      <td>NaN</td>\n      <td>NaN</td>\n      <td>NaN</td>\n    </tr>\n    <tr>\n      <th>5</th>\n      <td>/title/tt1745960//name/nm0000129/</td>\n      <td>/name/nm0000129/</td>\n      <td>/title/tt1745960/</td>\n      <td>Top Gun: Maverick</td>\n      <td>2021.0</td>\n      <td>NaN</td>\n      <td>NaN</td>\n      <td>NaN</td>\n      <td>NaN</td>\n      <td>NaN</td>\n      <td>NaN</td>\n    </tr>\n    <tr>\n      <th>6</th>\n      <td>/title/tt4912910//name/nm0000129/</td>\n      <td>/name/nm0000129/</td>\n      <td>/title/tt4912910/</td>\n      <td>Mission: Impossible - Fallout</td>\n      <td>2018.0</td>\n      <td>7.7</td>\n      <td>278525.0</td>\n      <td>178000000.0</td>\n      <td>61236534.0</td>\n      <td>220159104.0</td>\n      <td>791115104.0</td>\n    </tr>\n    <tr>\n      <th>7</th>\n      <td>/title/tt3532216//name/nm0000129/</td>\n      <td>/name/nm0000129/</td>\n      <td>/title/tt3532216/</td>\n      <td>American Made</td>\n      <td>2017.0</td>\n      <td>7.2</td>\n      <td>152369.0</td>\n      <td>50000000.0</td>\n      <td>16776390.0</td>\n      <td>51342000.0</td>\n      <td>134866593.0</td>\n    </tr>\n    <tr>\n      <th>8</th>\n      <td>/title/tt2345759//name/nm0000129/</td>\n      <td>/name/nm0000129/</td>\n      <td>/title/tt2345759/</td>\n      <td>The Mummy</td>\n      <td>2017.0</td>\n      <td>5.4</td>\n      <td>168273.0</td>\n      <td>125000000.0</td>\n      <td>31688375.0</td>\n      <td>80227895.0</td>\n      <td>409231607.0</td>\n    </tr>\n    <tr>\n      <th>9</th>\n      <td>/title/tt3393786//name/nm0000129/</td>\n      <td>/name/nm0000129/</td>\n      <td>/title/tt3393786/</td>\n      <td>Jack Reacher: Never Go Back</td>\n      <td>2016.0</td>\n      <td>6.1</td>\n      <td>133517.0</td>\n      <td>60000000.0</td>\n      <td>22872490.0</td>\n      <td>58697076.0</td>\n      <td>162146076.0</td>\n    </tr>\n    <tr>\n      <th>10</th>\n      <td>/title/tt2381249//name/nm0000129/</td>\n      <td>/name/nm0000129/</td>\n      <td>/title/tt2381249/</td>\n      <td>Mission: Impossible - Rogue Nation</td>\n      <td>2015.0</td>\n      <td>7.4</td>\n      <td>333109.0</td>\n      <td>150000000.0</td>\n      <td>55520089.0</td>\n      <td>195042377.0</td>\n      <td>682715352.0</td>\n    </tr>\n    <tr>\n      <th>11</th>\n      <td>/title/tt1631867//name/nm0000129/</td>\n      <td>/name/nm0000129/</td>\n      <td>/title/tt1631867/</td>\n      <td>Edge of Tomorrow</td>\n      <td>2014.0</td>\n      <td>7.9</td>\n      <td>583659.0</td>\n      <td>178000000.0</td>\n      <td>28760246.0</td>\n      <td>100206256.0</td>\n      <td>370541256.0</td>\n    </tr>\n    <tr>\n      <th>12</th>\n      <td>/title/tt1483013//name/nm0000129/</td>\n      <td>/name/nm0000129/</td>\n      <td>/title/tt1483013/</td>\n      <td>Oblivion</td>\n      <td>2013.0</td>\n      <td>7.0</td>\n      <td>475504.0</td>\n      <td>120000000.0</td>\n      <td>37054485.0</td>\n      <td>89107235.0</td>\n      <td>286168572.0</td>\n    </tr>\n    <tr>\n      <th>13</th>\n      <td>/title/tt0790724//name/nm0000129/</td>\n      <td>/name/nm0000129/</td>\n      <td>/title/tt0790724/</td>\n      <td>Jack Reacher</td>\n      <td>2012.0</td>\n      <td>7.0</td>\n      <td>300855.0</td>\n      <td>60000000.0</td>\n      <td>15210156.0</td>\n      <td>80070736.0</td>\n      <td>218340595.0</td>\n    </tr>\n    <tr>\n      <th>14</th>\n      <td>/title/tt1336608//name/nm0000129/</td>\n      <td>/name/nm0000129/</td>\n      <td>/title/tt1336608/</td>\n      <td>Rock of Ages</td>\n      <td>2012.0</td>\n      <td>5.9</td>\n      <td>72594.0</td>\n      <td>75000000.0</td>\n      <td>14437269.0</td>\n      <td>38518613.0</td>\n      <td>59418613.0</td>\n    </tr>\n    <tr>\n      <th>15</th>\n      <td>/title/tt1229238//name/nm0000129/</td>\n      <td>/name/nm0000129/</td>\n      <td>/title/tt1229238/</td>\n      <td>Mission: Impossible - Ghost Protocol</td>\n      <td>2011.0</td>\n      <td>7.4</td>\n      <td>448256.0</td>\n      <td>145000000.0</td>\n      <td>12785204.0</td>\n      <td>209397903.0</td>\n      <td>694713380.0</td>\n    </tr>\n    <tr>\n      <th>16</th>\n      <td>/title/tt1013743//name/nm0000129/</td>\n      <td>/name/nm0000129/</td>\n      <td>/title/tt1013743/</td>\n      <td>Knight and Day</td>\n      <td>2010.0</td>\n      <td>6.3</td>\n      <td>176789.0</td>\n      <td>117000000.0</td>\n      <td>20139985.0</td>\n      <td>76423035.0</td>\n      <td>261989769.0</td>\n    </tr>\n    <tr>\n      <th>17</th>\n      <td>/title/tt0985699//name/nm0000129/</td>\n      <td>/name/nm0000129/</td>\n      <td>/title/tt0985699/</td>\n      <td>Valkyrie</td>\n      <td>2008.0</td>\n      <td>7.1</td>\n      <td>224118.0</td>\n      <td>75000000.0</td>\n      <td>21027007.0</td>\n      <td>83077833.0</td>\n      <td>201545517.0</td>\n    </tr>\n    <tr>\n      <th>18</th>\n      <td>/title/tt0942385//name/nm0000129/</td>\n      <td>/name/nm0000129/</td>\n      <td>/title/tt0942385/</td>\n      <td>Tropic Thunder</td>\n      <td>2008.0</td>\n      <td>7.0</td>\n      <td>370704.0</td>\n      <td>92000000.0</td>\n      <td>25812796.0</td>\n      <td>110515313.0</td>\n      <td>195702811.0</td>\n    </tr>\n    <tr>\n      <th>19</th>\n      <td>/title/tt0891527//name/nm0000129/</td>\n      <td>/name/nm0000129/</td>\n      <td>/title/tt0891527/</td>\n      <td>Lions for Lambs</td>\n      <td>2007.0</td>\n      <td>6.2</td>\n      <td>46727.0</td>\n      <td>35000000.0</td>\n      <td>6702434.0</td>\n      <td>15002854.0</td>\n      <td>64811540.0</td>\n    </tr>\n    <tr>\n      <th>20</th>\n      <td>/title/tt0317919//name/nm0000129/</td>\n      <td>/name/nm0000129/</td>\n      <td>/title/tt0317919/</td>\n      <td>Mission: Impossible III</td>\n      <td>2006.0</td>\n      <td>6.9</td>\n      <td>323054.0</td>\n      <td>150000000.0</td>\n      <td>47743273.0</td>\n      <td>134029801.0</td>\n      <td>398479497.0</td>\n    </tr>\n    <tr>\n      <th>21</th>\n      <td>/title/tt0407304//name/nm0000129/</td>\n      <td>/name/nm0000129/</td>\n      <td>/title/tt0407304/</td>\n      <td>War of the Worlds</td>\n      <td>2005.0</td>\n      <td>6.5</td>\n      <td>407594.0</td>\n      <td>132000000.0</td>\n      <td>64878725.0</td>\n      <td>234280354.0</td>\n      <td>603873119.0</td>\n    </tr>\n    <tr>\n      <th>22</th>\n      <td>/title/tt0369339//name/nm0000129/</td>\n      <td>/name/nm0000129/</td>\n      <td>/title/tt0369339/</td>\n      <td>Collateral</td>\n      <td>2004.0</td>\n      <td>7.5</td>\n      <td>350966.0</td>\n      <td>65000000.0</td>\n      <td>24701458.0</td>\n      <td>101005703.0</td>\n      <td>220926695.0</td>\n    </tr>\n    <tr>\n      <th>23</th>\n      <td>/title/tt0325710//name/nm0000129/</td>\n      <td>/name/nm0000129/</td>\n      <td>/title/tt0325710/</td>\n      <td>The Last Samurai</td>\n      <td>2003.0</td>\n      <td>7.7</td>\n      <td>390282.0</td>\n      <td>140000000.0</td>\n      <td>24271354.0</td>\n      <td>111127263.0</td>\n      <td>454627263.0</td>\n    </tr>\n    <tr>\n      <th>24</th>\n      <td>/title/tt0295178//name/nm0000129/</td>\n      <td>/name/nm0000129/</td>\n      <td>/title/tt0295178/</td>\n      <td>Austin Powers in Goldmember</td>\n      <td>2002.0</td>\n      <td>6.2</td>\n      <td>192181.0</td>\n      <td>63000000.0</td>\n      <td>73071188.0</td>\n      <td>213307889.0</td>\n      <td>296938801.0</td>\n    </tr>\n    <tr>\n      <th>25</th>\n      <td>/title/tt0181689//name/nm0000129/</td>\n      <td>/name/nm0000129/</td>\n      <td>/title/tt0181689/</td>\n      <td>Minority Report</td>\n      <td>2002.0</td>\n      <td>7.6</td>\n      <td>496863.0</td>\n      <td>102000000.0</td>\n      <td>35677125.0</td>\n      <td>132072926.0</td>\n      <td>358372926.0</td>\n    </tr>\n    <tr>\n      <th>26</th>\n      <td>/title/tt0259711//name/nm0000129/</td>\n      <td>/name/nm0000129/</td>\n      <td>/title/tt0259711/</td>\n      <td>Vanilla Sky</td>\n      <td>2001.0</td>\n      <td>6.9</td>\n      <td>243687.0</td>\n      <td>68000000.0</td>\n      <td>25015518.0</td>\n      <td>100618344.0</td>\n      <td>203388341.0</td>\n    </tr>\n    <tr>\n      <th>27</th>\n      <td>/title/tt0120755//name/nm0000129/</td>\n      <td>/name/nm0000129/</td>\n      <td>/title/tt0120755/</td>\n      <td>Mission: Impossible II</td>\n      <td>2000.0</td>\n      <td>6.1</td>\n      <td>307302.0</td>\n      <td>125000000.0</td>\n      <td>57845297.0</td>\n      <td>215409889.0</td>\n      <td>546388108.0</td>\n    </tr>\n    <tr>\n      <th>28</th>\n      <td>/title/tt0175880//name/nm0000129/</td>\n      <td>/name/nm0000129/</td>\n      <td>/title/tt0175880/</td>\n      <td>Magnolia</td>\n      <td>1999.0</td>\n      <td>8.0</td>\n      <td>283699.0</td>\n      <td>37000000.0</td>\n      <td>193604.0</td>\n      <td>22455976.0</td>\n      <td>48451803.0</td>\n    </tr>\n    <tr>\n      <th>29</th>\n      <td>/title/tt5094696//name/nm0000129/</td>\n      <td>/name/nm0000129/</td>\n      <td>/title/tt5094696/</td>\n      <td>Aimee Mann: Save Me</td>\n      <td>1999.0</td>\n      <td>6.5</td>\n      <td>273.0</td>\n      <td>NaN</td>\n      <td>NaN</td>\n      <td>NaN</td>\n      <td>NaN</td>\n    </tr>\n    <tr>\n      <th>30</th>\n      <td>/title/tt0120663//name/nm0000129/</td>\n      <td>/name/nm0000129/</td>\n      <td>/title/tt0120663/</td>\n      <td>Eyes Wide Shut</td>\n      <td>1999.0</td>\n      <td>7.4</td>\n      <td>292967.0</td>\n      <td>65000000.0</td>\n      <td>21706163.0</td>\n      <td>55691208.0</td>\n      <td>162242684.0</td>\n    </tr>\n    <tr>\n      <th>31</th>\n      <td>/title/tt0116695//name/nm0000129/</td>\n      <td>/name/nm0000129/</td>\n      <td>/title/tt0116695/</td>\n      <td>Jerry Maguire</td>\n      <td>1996.0</td>\n      <td>7.3</td>\n      <td>237070.0</td>\n      <td>50000000.0</td>\n      <td>17084296.0</td>\n      <td>153952592.0</td>\n      <td>273552592.0</td>\n    </tr>\n    <tr>\n      <th>32</th>\n      <td>/title/tt0117060//name/nm0000129/</td>\n      <td>/name/nm0000129/</td>\n      <td>/title/tt0117060/</td>\n      <td>Mission: Impossible</td>\n      <td>1996.0</td>\n      <td>7.1</td>\n      <td>378803.0</td>\n      <td>80000000.0</td>\n      <td>45436830.0</td>\n      <td>180981856.0</td>\n      <td>457731198.0</td>\n    </tr>\n    <tr>\n      <th>33</th>\n      <td>/title/tt0110148//name/nm0000129/</td>\n      <td>/name/nm0000129/</td>\n      <td>/title/tt0110148/</td>\n      <td>Interview with the Vampire: The Vampire Chroni...</td>\n      <td>1994.0</td>\n      <td>7.6</td>\n      <td>288303.0</td>\n      <td>60000000.0</td>\n      <td>36389705.0</td>\n      <td>105264608.0</td>\n      <td>223664608.0</td>\n    </tr>\n    <tr>\n      <th>34</th>\n      <td>/title/tt0106918//name/nm0000129/</td>\n      <td>/name/nm0000129/</td>\n      <td>/title/tt0106918/</td>\n      <td>The Firm</td>\n      <td>1993.0</td>\n      <td>6.8</td>\n      <td>115157.0</td>\n      <td>42000000.0</td>\n      <td>25400000.0</td>\n      <td>158348367.0</td>\n      <td>270248367.0</td>\n    </tr>\n    <tr>\n      <th>35</th>\n      <td>/title/tt0104257//name/nm0000129/</td>\n      <td>/name/nm0000129/</td>\n      <td>/title/tt0104257/</td>\n      <td>A Few Good Men</td>\n      <td>1992.0</td>\n      <td>7.7</td>\n      <td>228312.0</td>\n      <td>41000000.0</td>\n      <td>15517468.0</td>\n      <td>141340178.0</td>\n      <td>243240178.0</td>\n    </tr>\n    <tr>\n      <th>36</th>\n      <td>/title/tt0104231//name/nm0000129/</td>\n      <td>/name/nm0000129/</td>\n      <td>/title/tt0104231/</td>\n      <td>Far and Away</td>\n      <td>1992.0</td>\n      <td>6.6</td>\n      <td>57600.0</td>\n      <td>60000000.0</td>\n      <td>10194520.0</td>\n      <td>58883840.0</td>\n      <td>137783840.0</td>\n    </tr>\n    <tr>\n      <th>37</th>\n      <td>/title/tt0099371//name/nm0000129/</td>\n      <td>/name/nm0000129/</td>\n      <td>/title/tt0099371/</td>\n      <td>Days of Thunder</td>\n      <td>1990.0</td>\n      <td>6.0</td>\n      <td>77077.0</td>\n      <td>60000000.0</td>\n      <td>15490445.0</td>\n      <td>82670733.0</td>\n      <td>157920733.0</td>\n    </tr>\n    <tr>\n      <th>38</th>\n      <td>/title/tt0096969//name/nm0000129/</td>\n      <td>/name/nm0000129/</td>\n      <td>/title/tt0096969/</td>\n      <td>Born on the Fourth of July</td>\n      <td>1989.0</td>\n      <td>7.2</td>\n      <td>95964.0</td>\n      <td>14000000.0</td>\n      <td>172021.0</td>\n      <td>70001698.0</td>\n      <td>161001698.0</td>\n    </tr>\n    <tr>\n      <th>39</th>\n      <td>/title/tt0095953//name/nm0000129/</td>\n      <td>/name/nm0000129/</td>\n      <td>/title/tt0095953/</td>\n      <td>Rain Man</td>\n      <td>1988.0</td>\n      <td>8.0</td>\n      <td>463319.0</td>\n      <td>25000000.0</td>\n      <td>7005719.0</td>\n      <td>172825435.0</td>\n      <td>354825435.0</td>\n    </tr>\n    <tr>\n      <th>40</th>\n      <td>/title/tt0094889//name/nm0000129/</td>\n      <td>/name/nm0000129/</td>\n      <td>/title/tt0094889/</td>\n      <td>Cocktail</td>\n      <td>1988.0</td>\n      <td>5.9</td>\n      <td>77606.0</td>\n      <td>20000000.0</td>\n      <td>11789466.0</td>\n      <td>78222753.0</td>\n      <td>171504781.0</td>\n    </tr>\n    <tr>\n      <th>41</th>\n      <td>/title/tt0090863//name/nm0000129/</td>\n      <td>/name/nm0000129/</td>\n      <td>/title/tt0090863/</td>\n      <td>The Color of Money</td>\n      <td>1986.0</td>\n      <td>7.0</td>\n      <td>72487.0</td>\n      <td>13800000.0</td>\n      <td>6357877.0</td>\n      <td>52293982.0</td>\n      <td>52293982.0</td>\n    </tr>\n    <tr>\n      <th>42</th>\n      <td>/title/tt0092099//name/nm0000129/</td>\n      <td>/name/nm0000129/</td>\n      <td>/title/tt0092099/</td>\n      <td>Top Gun</td>\n      <td>1986.0</td>\n      <td>6.9</td>\n      <td>284887.0</td>\n      <td>15000000.0</td>\n      <td>8193052.0</td>\n      <td>179800601.0</td>\n      <td>356830601.0</td>\n    </tr>\n    <tr>\n      <th>43</th>\n      <td>/title/tt0089469//name/nm0000129/</td>\n      <td>/name/nm0000129/</td>\n      <td>/title/tt0089469/</td>\n      <td>Legend</td>\n      <td>1985.0</td>\n      <td>6.5</td>\n      <td>58303.0</td>\n      <td>24500000.0</td>\n      <td>4261154.0</td>\n      <td>15502112.0</td>\n      <td>15502112.0</td>\n    </tr>\n    <tr>\n      <th>44</th>\n      <td>/title/tt0085154//name/nm0000129/</td>\n      <td>/name/nm0000129/</td>\n      <td>/title/tt0085154/</td>\n      <td>All the Right Moves</td>\n      <td>1983.0</td>\n      <td>5.9</td>\n      <td>15258.0</td>\n      <td>5600000.0</td>\n      <td>1625486.0</td>\n      <td>17233166.0</td>\n      <td>17233166.0</td>\n    </tr>\n    <tr>\n      <th>45</th>\n      <td>/title/tt0086200//name/nm0000129/</td>\n      <td>/name/nm0000129/</td>\n      <td>/title/tt0086200/</td>\n      <td>Risky Business</td>\n      <td>1983.0</td>\n      <td>6.8</td>\n      <td>78639.0</td>\n      <td>6200000.0</td>\n      <td>4275327.0</td>\n      <td>63541777.0</td>\n      <td>63541777.0</td>\n    </tr>\n    <tr>\n      <th>46</th>\n      <td>/title/tt0085868//name/nm0000129/</td>\n      <td>/name/nm0000129/</td>\n      <td>/title/tt0085868/</td>\n      <td>Losin' It</td>\n      <td>1983.0</td>\n      <td>4.9</td>\n      <td>3977.0</td>\n      <td>7000000.0</td>\n      <td>437257.0</td>\n      <td>1246141.0</td>\n      <td>1246141.0</td>\n    </tr>\n    <tr>\n      <th>47</th>\n      <td>/title/tt0086066//name/nm0000129/</td>\n      <td>/name/nm0000129/</td>\n      <td>/title/tt0086066/</td>\n      <td>The Outsiders</td>\n      <td>1983.0</td>\n      <td>7.1</td>\n      <td>73030.0</td>\n      <td>10000000.0</td>\n      <td>5068165.0</td>\n      <td>25697647.0</td>\n      <td>25697647.0</td>\n    </tr>\n    <tr>\n      <th>48</th>\n      <td>/title/tt0083169//name/nm0000129/</td>\n      <td>/name/nm0000129/</td>\n      <td>/title/tt0083169/</td>\n      <td>Taps</td>\n      <td>1981.0</td>\n      <td>6.8</td>\n      <td>16234.0</td>\n      <td>14000000.0</td>\n      <td>93005.0</td>\n      <td>35856053.0</td>\n      <td>35856053.0</td>\n    </tr>\n    <tr>\n      <th>49</th>\n      <td>/title/tt0082329//name/nm0000129/</td>\n      <td>/name/nm0000129/</td>\n      <td>/title/tt0082329/</td>\n      <td>Endless Love</td>\n      <td>1981.0</td>\n      <td>4.9</td>\n      <td>6982.0</td>\n      <td>NaN</td>\n      <td>4163623.0</td>\n      <td>31184024.0</td>\n      <td>32492674.0</td>\n    </tr>\n  </tbody>\n</table>\n</div>"
     },
     "metadata": {},
     "execution_count": 23
    }
   ],
   "source": [
    "# Example: Tom Cruise\n",
    "imdb_filmo_scraper('/name/nm0000129/')\n",
    "\n",
    "# Example: Brad Pitt\n",
    "# imdb_filmography_data('/name/nm0000093/')\n",
    "\n",
    "# Example: John David Washington\n",
    "# imdb_filmography_data('/name/nm0913475/')\n",
    "\n",
    "# Example: Tom Holland\n",
    "# European currencies\n",
    "# imdb_filmography_data('/name/nm4043618/')\n"
   ]
  },
  {
   "cell_type": "code",
   "execution_count": 32,
   "metadata": {
    "tags": []
   },
   "outputs": [
    {
     "output_type": "stream",
     "name": "stdout",
     "text": "[<div class=\"filmo-row odd\" id=\"actress-tt6510038\">\n<span class=\"year_column\">\n \n</span>\n<b><a href=\"/title/tt6510038/\">The Sea Change</a></b>\n(<a class=\"in_production\" href=\"https://pro.imdb.com/title/tt6510038?rf=cons_nm_filmo\">announced</a>)\n<br/>\nAlberta\n</div>, <div class=\"filmo-row even\" id=\"actress-tt8690348\">\n<span class=\"year_column\">\n \n</span>\n<b><a href=\"/title/tt8690348/\">Weetzie Bat</a></b>\n(<a class=\"in_production\" href=\"https://pro.imdb.com/title/tt8690348?rf=cons_nm_filmo\">announced</a>)\n<br/>\nWeetzie Bat\n</div>, <div class=\"filmo-row odd\" id=\"actress-tt11138512\">\n<span class=\"year_column\">\n \n</span>\n<b><a href=\"/title/tt11138512/\">The Northman</a></b>\n(<a class=\"in_production\" href=\"https://pro.imdb.com/title/tt11138512?rf=cons_nm_filmo\">pre-production</a>)\n<br/>\n</div>, <div class=\"filmo-row even\" id=\"actress-tt10048342\">\n<span class=\"year_column\">\n 2020\n</span>\n<b><a href=\"/title/tt10048342/\">The Queen's Gambit</a></b>\n(TV Mini-Series) (<a class=\"in_production\" href=\"https://pro.imdb.com/title/tt10048342?rf=cons_nm_filmo\">pre-production</a>)\n<br/>\n<div class=\"filmo-episodes\">\n- <a href=\"/title/tt10062310/\">Episode #1.1</a>\n(2020)\n</div>\n<div class=\"filmo-episodes\">\n- <a href=\"/title/tt10062322/\">Episode #1.6</a>\n</div>\n<div class=\"filmo-episodes\">\n- <a href=\"/title/tt10062320/\">Episode #1.5</a>\n</div>\n<div class=\"filmo-episodes\">\n- <a href=\"/title/tt10062318/\">Episode #1.4</a>\n</div>\n<div class=\"filmo-episodes\">\n- <a href=\"/title/tt10062314/\">Episode #1.3</a>\n</div>\n<div id=\"more-episodes-tt10048342-actress\" style=\"display:none;\">\n<img src=\"https://m.media-amazon.com/images/G/01/imdb/images/favorite_theater/spinner-3099941772._CB468198084_.gif\">\n</img></div>\n<div class=\"filmo-episodes\">\n<a data-n=\"6\" href=\"#\" onclick=\"toggleSeeMoreEpisodes(this,'nm5896355','tt10048342','actress','nm_flmg_act_4',5,'blind','#more-episodes-tt10048342-actress',toggleContent); return false;\">Show all 6 episodes</a>\n</div>\n</div>, <div class=\"filmo-row odd\" id=\"actress-tt9639470\">\n<span class=\"year_column\">\n 2021\n</span>\n<b><a href=\"/title/tt9639470/\">Last Night in Soho</a></b>\n(<a class=\"in_production\" href=\"https://pro.imdb.com/title/tt9639470?rf=cons_nm_filmo\">post-production</a>)\n<br/>\nSandy\n</div>, <div class=\"filmo-row even\" id=\"actress-tt4682266\">\n<span class=\"year_column\">\n 2020\n</span>\n<b><a href=\"/title/tt4682266/\">The New Mutants</a></b>\n(<a class=\"in_production\" href=\"https://pro.imdb.com/title/tt4682266?rf=cons_nm_filmo\">completed</a>)\n<br/>\nIllyana Rasputin / Magik\n</div>, <div class=\"filmo-row odd\" id=\"actress-tt5598868\">\n<span class=\"year_column\">\n 2020\n</span>\n<b><a href=\"/title/tt5598868/\">Here Are the Young Men</a></b>\n<br/>\nJen\n</div>, <div class=\"filmo-row even\" id=\"actress-tt9214832\">\n<span class=\"year_column\">\n 2020\n</span>\n<b><a href=\"/title/tt9214832/\">Emma.</a></b>\n<br/>\nEmma Woodhouse\n</div>, <div class=\"filmo-row odd\" id=\"actress-tt2442560\">\n<span class=\"year_column\">\n 2019\n</span>\n<b><a href=\"/title/tt2442560/\">Peaky Blinders</a></b>\n(TV Series)\n<br/>\nGina Gray\n<div class=\"filmo-episodes\">\n- <a href=\"/title/tt6056652/\">Mr. Jones</a>\n(2019)\n... Gina Gray\n</div>\n<div class=\"filmo-episodes\">\n- <a href=\"/title/tt6229672/\">The Shock</a>\n(2019)\n... Gina Gray\n</div>\n<div class=\"filmo-episodes\">\n- <a href=\"/title/tt6229670/\">The Loop</a>\n(2019)\n... Gina Gray\n</div>\n<div class=\"filmo-episodes\">\n- <a href=\"/title/tt6229668/\">Strategy</a>\n(2019)\n... Gina Gray\n</div>\n<div class=\"filmo-episodes\">\n- <a href=\"/title/tt6227902/\">Black Cats</a>\n(2019)\n... Gina Gray\n</div>\n<div id=\"more-episodes-tt2442560-actress\" style=\"display:none;\">\n<img src=\"https://m.media-amazon.com/images/G/01/imdb/images/favorite_theater/spinner-3099941772._CB468198084_.gif\">\n</img></div>\n<div class=\"filmo-episodes\">\n<a data-n=\"6\" href=\"#\" onclick=\"toggleSeeMoreEpisodes(this,'nm5896355','tt2442560','actress','nm_flmg_act_9',5,'blind','#more-episodes-tt2442560-actress',toggleContent); return false;\">Show all 6 episodes</a>\n</div>\n</div>, <div class=\"filmo-row even\" id=\"actress-tt6017756\">\n<span class=\"year_column\">\n 2019\n</span>\n<b><a href=\"/title/tt6017756/\">Radioactive</a></b>\n<br/>\nIrène Aged 18\n</div>, <div class=\"filmo-row odd\" id=\"actress-tt6905542\">\n<span class=\"year_column\">\n 2019\n</span>\n<b><a href=\"/title/tt6905542/\">The Dark Crystal: Age of Resistance</a></b>\n(TV Series)\n<br/>\nBrea\n<div class=\"filmo-episodes\">\n- <a href=\"/title/tt6906040/\">A Single Piece Was Lost</a>\n(2019)\n... Brea (voice)\n</div>\n<div class=\"filmo-episodes\">\n- <a href=\"/title/tt6906038/\">The Crystal Calls</a>\n(2019)\n... Brea (voice)\n</div>\n<div class=\"filmo-episodes\">\n- <a href=\"/title/tt6906036/\">Prophets Don't Know Everything</a>\n(2019)\n... Brea (voice)\n</div>\n<div class=\"filmo-episodes\">\n- <a href=\"/title/tt6906034/\">Time to Make... My Move</a>\n(2019)\n... Brea (voice)\n</div>\n<div class=\"filmo-episodes\">\n- <a href=\"/title/tt6906032/\">By Gelfling Hand...</a>\n(2019)\n... Brea (voice)\n</div>\n<div id=\"more-episodes-tt6905542-actress\" style=\"display:none;\">\n<img src=\"https://m.media-amazon.com/images/G/01/imdb/images/favorite_theater/spinner-3099941772._CB468198084_.gif\">\n</img></div>\n<div class=\"filmo-episodes\">\n<a data-n=\"10\" href=\"#\" onclick=\"toggleSeeMoreEpisodes(this,'nm5896355','tt6905542','actress','nm_flmg_act_11',5,'blind','#more-episodes-tt6905542-actress',toggleContent); return false;\">Show all 10 episodes</a>\n</div>\n</div>, <div class=\"filmo-row even\" id=\"actress-tt4199898\">\n<span class=\"year_column\">\n 2019\n</span>\n<b><a href=\"/title/tt4199898/\">Playmobil: The Movie</a></b>\n<br/>\nMarla Brenner\n</div>, <div class=\"filmo-row odd\" id=\"actress-tt10698452\">\n<span class=\"year_column\">\n 2019\n</span>\n<b><a href=\"/title/tt10698452/\">Hozier: Dinner &amp; Diatribes</a></b>\n(Video short)\n<br/>\nWife\n</div>, <div class=\"filmo-row even\" id=\"actress-tt6823368\">\n<span class=\"year_column\">\n 2019\n</span>\n<b><a href=\"/title/tt6823368/\">Glass</a></b>\n<br/>\nCasey Cooke\n</div>, <div class=\"filmo-row odd\" id=\"actress-tt7025710\">\n<span class=\"year_column\">\n 2018\n</span>\n<b><a href=\"/title/tt7025710/\">Crossmaglen</a></b>\n(Short)\n<br/>\nAna\n</div>, <div class=\"filmo-row even\" id=\"actress-tt6889090\">\n<span class=\"year_column\">\n 2017\n</span>\n<b><a href=\"/title/tt6889090/\">The Miniaturist</a></b>\n(TV Mini-Series)\n<br/>\nPetronella Brandt\n<div class=\"filmo-episodes\">\n- <a href=\"/title/tt6907456/\">Episode #1.2</a>\n(2017)\n... Petronella Brandt\n</div>\n<div class=\"filmo-episodes\">\n- <a href=\"/title/tt6907454/\">Episode #1.1</a>\n(2017)\n... Petronella Brandt\n</div>\n</div>, <div class=\"filmo-row odd\" id=\"actress-tt5886440\">\n<span class=\"year_column\">\n 2017\n</span>\n<b><a href=\"/title/tt5886440/\">Marrowbone</a></b>\n<br/>\nAllie\n</div>, <div class=\"filmo-row even\" id=\"actress-tt5649108\">\n<span class=\"year_column\">\n 2017\n</span>\n<b><a href=\"/title/tt5649108/\">Thoroughbreds</a></b>\n<br/>\nLily\n</div>, <div class=\"filmo-row odd\" id=\"actress-tt4972582\">\n<span class=\"year_column\">\n 2016/IX\n</span>\n<b><a href=\"/title/tt4972582/\">Split</a></b>\n<br/>\nCasey Cooke\n</div>, <div class=\"filmo-row even\" id=\"actress-tt5477566\">\n<span class=\"year_column\">\n 2016/II\n</span>\n<b><a href=\"/title/tt5477566/\">Barry</a></b>\n<br/>\nCharlotte\n</div>, <div class=\"filmo-row odd\" id=\"actress-tt4520364\">\n<span class=\"year_column\">\n 2016\n</span>\n<b><a href=\"/title/tt4520364/\">Morgan</a></b>\n<br/>\nMorgan\n</div>, <div class=\"filmo-row even\" id=\"actress-tt5273844\">\n<span class=\"year_column\">\n 2015\n</span>\n<b><a href=\"/title/tt5273844/\">GTA Feat. Sam Bruno: Red Lips (Skrillex Remix)</a></b>\n(Video short)\n<br/>\n</div>, <div class=\"filmo-row odd\" id=\"actress-tt2705602\">\n<span class=\"year_column\">\n 2015\n</span>\n<b><a href=\"/title/tt2705602/\">Atlantis</a></b>\n(TV Series)\n<br/>\nCassandra\n<div class=\"filmo-episodes\">\n- <a href=\"/title/tt4677800/\">The Queen Must Die</a>\n(2015)\n... Cassandra\n</div>\n<div class=\"filmo-episodes\">\n- <a href=\"/title/tt4655944/\">Kin</a>\n(2015)\n... Cassandra\n</div>\n<div class=\"filmo-episodes\">\n- <a href=\"/title/tt4642644/\">The Dying of the Light</a>\n(2015)\n... Cassandra\n</div>\n<div class=\"filmo-episodes\">\n- <a href=\"/title/tt4615626/\">The Gorgon's Gaze</a>\n(2015)\n... Cassandra\n</div>\n<div class=\"filmo-episodes\">\n- <a href=\"/title/tt4597206/\">The Madness of Hercules</a>\n(2015)\n... Cassandra\n</div>\n</div>, <div class=\"filmo-row even\" id=\"actress-tt4155144\">\n<span class=\"year_column\">\n 2015\n</span>\n<b><a href=\"/title/tt4155144/\">Viking Quest</a></b>\n(TV Movie)\n<br/>\nMani\n</div>, <div class=\"filmo-row odd\" id=\"actress-tt4263482\">\n<span class=\"year_column\">\n 2015\n</span>\n<b><a href=\"/title/tt4263482/\">The VVitch: A New-England Folktale</a></b>\n<br/>\nThomasin\n</div>, <div class=\"filmo-row even\" id=\"actress-tt2701582\">\n<span class=\"year_column\">\n 2014\n</span>\n<b><a href=\"/title/tt2701582/\">Endeavour</a></b>\n(TV Series)\n<br/>\nPhilippa Collins-Davidson\n<div class=\"filmo-episodes\">\n- <a href=\"/title/tt2999204/\">Nocturne</a>\n(2014)\n... Philippa Collins-Davidson\n</div>\n</div>, <div class=\"filmo-row odd\" id=\"actress-tt1686821\">\n<span class=\"year_column\">\n 2014\n</span>\n<b><a href=\"/title/tt1686821/\">Vampire Academy</a></b>\n<br/>\nFeeder Girl (uncredited)\n</div>]\n"
    }
   ],
   "source": [
    "\n",
    "mactor_href = '/name/nm4043618/' # Tom Holland\n",
    "factor_href = '/name/nm5896355/' # Anya Taylor-Joy\n",
    "#     # Function timing\n",
    "#     filmostart = pd.Timestamp.now()\n",
    "#     print('IMDB Filmography Time Start!')\n",
    "\n",
    "# Append href input to full IMDB URL\n",
    "mimdbUrl = 'https://www.imdb.com' + mactor_href\n",
    "fimdbUrl = 'https://www.imdb.com' + factor_href\n",
    "\n",
    "# Parse URL with BeautifulSoup\n",
    "# mr = requests.get(mimdbUrl)\n",
    "fr = requests.get(fimdbUrl)\n",
    "# msoup = BeautifulSoup(mr.content, 'html.parser')\n",
    "fsoup = BeautifulSoup(fr.content, 'html.parser')\n",
    "\n",
    "# Retrieve filmography data\n",
    "# mfilms = msoup.find_all('div', id = re.compile('^act'))\n",
    "ffilms = fsoup.find_all('div', id = re.compile('^act'))\n",
    "\n",
    "# print(mfilms)\n",
    "print(ffilms)"
   ]
  }
 ],
 "metadata": {
  "kernelspec": {
   "display_name": "Python 3",
   "language": "python",
   "name": "python3"
  },
  "language_info": {
   "codemirror_mode": {
    "name": "ipython",
    "version": 3
   },
   "file_extension": ".py",
   "mimetype": "text/x-python",
   "name": "python",
   "nbconvert_exporter": "python",
   "pygments_lexer": "ipython3",
   "version": "3.7.6-final"
  }
 },
 "nbformat": 4,
 "nbformat_minor": 4
}